{
 "cells": [
  {
   "cell_type": "code",
   "execution_count": 13,
   "id": "97d4bfa3-b232-4142-9602-f8af66967127",
   "metadata": {},
   "outputs": [
    {
     "name": "stdout",
     "output_type": "stream",
     "text": [
      "50 is indeed a larger number than 30\n"
     ]
    }
   ],
   "source": [
    "if 50>30:\n",
    "    print('50 is indeed a larger number than 30')"
   ]
  },
  {
   "cell_type": "code",
   "execution_count": 17,
   "id": "ac20f590-ce10-4257-ab1e-47723d47f25a",
   "metadata": {},
   "outputs": [
    {
     "name": "stdout",
     "output_type": "stream",
     "text": [
      "this person is an adult\n"
     ]
    }
   ],
   "source": [
    "age = 20\n",
    "if age>18:\n",
    "    print('this person is an adult')"
   ]
  },
  {
   "cell_type": "code",
   "execution_count": 18,
   "id": "27c19b90-9c7a-426b-a537-84416a21e53c",
   "metadata": {},
   "outputs": [
    {
     "name": "stdout",
     "output_type": "stream",
     "text": [
      "cat is in list x\n"
     ]
    }
   ],
   "source": [
    "x = [50, 'cat', 'apple']\n",
    "if 60 in x:\n",
    "    print('60 is in list x')\n",
    "elif 'cat' in x:\n",
    "    print('cat is in list x')\n",
    "else:\n",
    "    print('this will not be printed')"
   ]
  },
  {
   "cell_type": "code",
   "execution_count": 20,
   "id": "5f7364d8-3f56-41a2-9ee1-cce96957b59c",
   "metadata": {},
   "outputs": [
    {
     "name": "stdout",
     "output_type": "stream",
     "text": [
      "this is printed\n"
     ]
    }
   ],
   "source": [
    "x = 'cat'\n",
    "\n",
    "if 50>60:\n",
    "    print('this wont get printed')\n",
    "elif x == 'cat':\n",
    "    print('this is printed')\n",
    "elif 1/0:\n",
    "    print('nothing')"
   ]
  },
  {
   "cell_type": "code",
   "execution_count": 23,
   "id": "f142f57b-be41-4f55-b06c-59ab9fe6d52c",
   "metadata": {},
   "outputs": [
    {
     "data": {
      "text/plain": [
       "'adult'"
      ]
     },
     "execution_count": 23,
     "metadata": {},
     "output_type": "execute_result"
    }
   ],
   "source": [
    "age = 26\n",
    "x = 'adult' if age > 18 else 'child'\n",
    "x"
   ]
  },
  {
   "cell_type": "code",
   "execution_count": 24,
   "id": "759bb78b-003f-4912-8581-c823ce5ff437",
   "metadata": {},
   "outputs": [],
   "source": [
    "if age>18:\n",
    "    pass"
   ]
  },
  {
   "cell_type": "code",
   "execution_count": 25,
   "id": "af909cfb-0eaa-4597-8b69-b542091d6a34",
   "metadata": {},
   "outputs": [
    {
     "name": "stdout",
     "output_type": "stream",
     "text": [
      "x is smaller than or equal to five\n"
     ]
    }
   ],
   "source": [
    "x = 5\n",
    "if x > 5:\n",
    "    print('x is larger than five')\n",
    "else:\n",
    "    print('x is smaller than or equal to five')"
   ]
  },
  {
   "cell_type": "code",
   "execution_count": 26,
   "id": "a37ed124-f134-41f6-aa36-50b6149b72c1",
   "metadata": {},
   "outputs": [
    {
     "name": "stdout",
     "output_type": "stream",
     "text": [
      "Hey x is EXACTLY five!\n"
     ]
    }
   ],
   "source": [
    "x = 5\n",
    "if x == 5:\n",
    "    print(\"Hey x is EXACTLY five!\")\n",
    "elif x > 5:\n",
    "    print(\"x is now MORE than five!\")\n",
    "else:\n",
    "    print(\"x is now LESS than five!\")"
   ]
  },
  {
   "cell_type": "code",
   "execution_count": 29,
   "id": "6d3f6087-b0a7-4637-b929-290ac3e50af3",
   "metadata": {},
   "outputs": [
    {
     "name": "stdout",
     "output_type": "stream",
     "text": [
      "I will buy 5 dozens\n"
     ]
    }
   ],
   "source": [
    "orange_quality = 'fresh'\n",
    "orange_price = 4.0\n",
    "\n",
    "if orange_quality == 'fresh':\n",
    "    if orange_price < 5:\n",
    "        print('I will buy 5 dozens')\n",
    "    else:\n",
    "        print('I will buy 2 dozens')\n",
    "else:\n",
    "    print('I will not buy any oranges')"
   ]
  },
  {
   "cell_type": "code",
   "execution_count": 37,
   "id": "870084a2-e797-4b7b-8346-14d88872423e",
   "metadata": {},
   "outputs": [
    {
     "name": "stdout",
     "output_type": "stream",
     "text": [
      "Please enter a number between 1 and 20\n"
     ]
    },
    {
     "name": "stdin",
     "output_type": "stream",
     "text": [
      ">  9\n"
     ]
    },
    {
     "name": "stdout",
     "output_type": "stream",
     "text": [
      "You have entered a valid number\n",
      "Your number is odd\n"
     ]
    }
   ],
   "source": [
    "print(\"Please enter a number between 1 and 20\")\n",
    "\n",
    "enter_num = int(input(\"> \"))   #int() added to ensure that the input is treated as a number, not a string\n",
    "\n",
    "if enter_num >= 1 and enter_num <= 20: #conditional statement that ensures limit is between 1 and 20\n",
    "\n",
    "    print (\"You have entered a valid number\")\n",
    "\n",
    "    if enter_num % 2 == 0: #text for even/odd\n",
    "\n",
    "        print (\"Your number is even\")\n",
    "\n",
    "    elif enter_num % 2 == 1: #text for even/odd\n",
    "\n",
    "        print (\"Your number is odd\")\n",
    "\n",
    "else: \n",
    "    print (\"You've entered an invalid number\")"
   ]
  },
  {
   "cell_type": "code",
   "execution_count": null,
   "id": "9fa2262e-6b68-483e-96cd-5591d8f02fec",
   "metadata": {},
   "outputs": [],
   "source": []
  }
 ],
 "metadata": {
  "kernelspec": {
   "display_name": "Python 3 (ipykernel)",
   "language": "python",
   "name": "python3"
  },
  "language_info": {
   "codemirror_mode": {
    "name": "ipython",
    "version": 3
   },
   "file_extension": ".py",
   "mimetype": "text/x-python",
   "name": "python",
   "nbconvert_exporter": "python",
   "pygments_lexer": "ipython3",
   "version": "3.12.4"
  }
 },
 "nbformat": 4,
 "nbformat_minor": 5
}
