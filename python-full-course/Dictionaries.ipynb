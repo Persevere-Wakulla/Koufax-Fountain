{
 "cells": [
  {
   "cell_type": "code",
   "execution_count": 1,
   "id": "90c9b111-f9cd-4e39-ba0a-23789c01646e",
   "metadata": {},
   "outputs": [],
   "source": [
    "d = {'banana':'yellow', 'apple':'red', 'grape':'green'}"
   ]
  },
  {
   "cell_type": "code",
   "execution_count": 2,
   "id": "875ffaf2-40ab-4061-8ea7-e1249db05865",
   "metadata": {},
   "outputs": [
    {
     "data": {
      "text/plain": [
       "{'banana': 'yellow', 'apple': 'red', 'grape': 'green'}"
      ]
     },
     "execution_count": 2,
     "metadata": {},
     "output_type": "execute_result"
    }
   ],
   "source": [
    "d"
   ]
  },
  {
   "cell_type": "code",
   "execution_count": 3,
   "id": "ddad6597-11fa-4b3b-a1ce-95a410da9574",
   "metadata": {},
   "outputs": [
    {
     "data": {
      "text/plain": [
       "{'apple': 'red', 'grape': 'green', 'banana': 'yellow'}"
      ]
     },
     "execution_count": 3,
     "metadata": {},
     "output_type": "execute_result"
    }
   ],
   "source": [
    "d = dict({('banana','yellow'),('apple','red'),('grape','green')})\n",
    "d"
   ]
  },
  {
   "cell_type": "code",
   "execution_count": 4,
   "id": "870d7f8a-abc4-407b-98bf-9330e935a7a5",
   "metadata": {},
   "outputs": [
    {
     "data": {
      "text/plain": [
       "{'banana': 'yellow'}"
      ]
     },
     "execution_count": 4,
     "metadata": {},
     "output_type": "execute_result"
    }
   ],
   "source": [
    "d = {'banana':'green', 'banana':'yellow'}\n",
    "d"
   ]
  },
  {
   "cell_type": "code",
   "execution_count": 6,
   "id": "b54f6d3a-b0b7-4c4c-9d8f-9f3881997aee",
   "metadata": {},
   "outputs": [
    {
     "data": {
      "text/plain": [
       "{'banana': 'green', 'guava': 'green'}"
      ]
     },
     "execution_count": 6,
     "metadata": {},
     "output_type": "execute_result"
    }
   ],
   "source": [
    "d = {'banana':'green', 'guava':'green'}\n",
    "d"
   ]
  },
  {
   "cell_type": "code",
   "execution_count": 7,
   "id": "9855bb2a-71ff-4655-9c5c-3288b6df105f",
   "metadata": {},
   "outputs": [],
   "source": [
    "d = {'banana':'yellow', 'apple':'red', 'grape':'green'}"
   ]
  },
  {
   "cell_type": "code",
   "execution_count": 8,
   "id": "feb4faf2-be7b-42d4-b7bc-0fe4247cbb1f",
   "metadata": {},
   "outputs": [
    {
     "data": {
      "text/plain": [
       "'yellow'"
      ]
     },
     "execution_count": 8,
     "metadata": {},
     "output_type": "execute_result"
    }
   ],
   "source": [
    "d['banana']"
   ]
  },
  {
   "cell_type": "code",
   "execution_count": 9,
   "id": "5e24d018-5782-499a-935a-88a256a7cb2a",
   "metadata": {},
   "outputs": [
    {
     "data": {
      "text/plain": [
       "{'banana': 'gold', 'apple': 'red', 'grape': 'green'}"
      ]
     },
     "execution_count": 9,
     "metadata": {},
     "output_type": "execute_result"
    }
   ],
   "source": [
    "d['banana'] = 'gold'\n",
    "d"
   ]
  },
  {
   "cell_type": "code",
   "execution_count": 12,
   "id": "c7b65d99-e783-4928-a951-f86b9b050946",
   "metadata": {},
   "outputs": [
    {
     "data": {
      "text/plain": [
       "{'banana': 'gold', 'apple': 'red', 'grape': 'green', 'watermelon': 'red'}"
      ]
     },
     "execution_count": 12,
     "metadata": {},
     "output_type": "execute_result"
    }
   ],
   "source": [
    "d['watermelon'] = 'red'\n",
    "d"
   ]
  },
  {
   "cell_type": "code",
   "execution_count": 18,
   "id": "a0b1903d-68de-4dab-b753-a988a5e1e68f",
   "metadata": {},
   "outputs": [
    {
     "data": {
      "text/plain": [
       "{'banana': 'gold', 'grape': 'green', 'watermelon': 'red'}"
      ]
     },
     "execution_count": 18,
     "metadata": {},
     "output_type": "execute_result"
    }
   ],
   "source": [
    "d"
   ]
  },
  {
   "cell_type": "code",
   "execution_count": 19,
   "id": "78591da7-5b8e-4b4a-a71f-4485b6a80a11",
   "metadata": {},
   "outputs": [],
   "source": [
    "del d['grape']"
   ]
  },
  {
   "cell_type": "code",
   "execution_count": 20,
   "id": "7f3535fe-5786-473e-b753-d776c94b5c67",
   "metadata": {},
   "outputs": [
    {
     "data": {
      "text/plain": [
       "{'banana': 'gold', 'watermelon': 'red'}"
      ]
     },
     "execution_count": 20,
     "metadata": {},
     "output_type": "execute_result"
    }
   ],
   "source": [
    "d"
   ]
  },
  {
   "cell_type": "code",
   "execution_count": 21,
   "id": "411225f4-0dd2-42a2-ba88-aa64b264f7ee",
   "metadata": {},
   "outputs": [
    {
     "data": {
      "text/plain": [
       "'gold'"
      ]
     },
     "execution_count": 21,
     "metadata": {},
     "output_type": "execute_result"
    }
   ],
   "source": [
    "d.get('banana')"
   ]
  },
  {
   "cell_type": "code",
   "execution_count": 22,
   "id": "172142d7-bdc0-4d10-a40a-613eed9faf5b",
   "metadata": {},
   "outputs": [
    {
     "data": {
      "text/plain": [
       "dict_items([('banana', 'gold'), ('watermelon', 'red')])"
      ]
     },
     "execution_count": 22,
     "metadata": {},
     "output_type": "execute_result"
    }
   ],
   "source": [
    "d.items()"
   ]
  },
  {
   "cell_type": "code",
   "execution_count": 23,
   "id": "a6abf6cd-0b97-4998-8157-6aca61e998b7",
   "metadata": {},
   "outputs": [
    {
     "data": {
      "text/plain": [
       "dict_keys(['banana', 'watermelon'])"
      ]
     },
     "execution_count": 23,
     "metadata": {},
     "output_type": "execute_result"
    }
   ],
   "source": [
    "d.keys()"
   ]
  },
  {
   "cell_type": "code",
   "execution_count": 24,
   "id": "7029fc90-208a-41ec-bfc5-711dcbc6f35f",
   "metadata": {},
   "outputs": [
    {
     "data": {
      "text/plain": [
       "dict_values(['gold', 'red'])"
      ]
     },
     "execution_count": 24,
     "metadata": {},
     "output_type": "execute_result"
    }
   ],
   "source": [
    "d.values()"
   ]
  },
  {
   "cell_type": "code",
   "execution_count": 25,
   "id": "245d6196-8843-49dd-a335-f868a0a6eb3d",
   "metadata": {},
   "outputs": [
    {
     "data": {
      "text/plain": [
       "('watermelon', 'red')"
      ]
     },
     "execution_count": 25,
     "metadata": {},
     "output_type": "execute_result"
    }
   ],
   "source": [
    "d.popitem()"
   ]
  },
  {
   "cell_type": "code",
   "execution_count": 26,
   "id": "7ca0b44c-b73d-4054-bf49-7a221d9d7c89",
   "metadata": {},
   "outputs": [],
   "source": [
    "x = dict({('kiwi', 'green'), ('mango', 'yellow')})"
   ]
  },
  {
   "cell_type": "code",
   "execution_count": 27,
   "id": "74fc0fb2-6751-49c5-a400-99aa7f664155",
   "metadata": {},
   "outputs": [
    {
     "data": {
      "text/plain": [
       "{'mango': 'yellow', 'kiwi': 'green'}"
      ]
     },
     "execution_count": 27,
     "metadata": {},
     "output_type": "execute_result"
    }
   ],
   "source": [
    "x"
   ]
  },
  {
   "cell_type": "code",
   "execution_count": 28,
   "id": "87d509d3-9105-452f-a7ab-8e8f8f742bb0",
   "metadata": {},
   "outputs": [],
   "source": [
    "d.update(x)"
   ]
  },
  {
   "cell_type": "code",
   "execution_count": 29,
   "id": "21f75bf4-3c05-48df-a9fb-b7e4cf13c99b",
   "metadata": {},
   "outputs": [
    {
     "data": {
      "text/plain": [
       "{'banana': 'gold', 'mango': 'yellow', 'kiwi': 'green'}"
      ]
     },
     "execution_count": 29,
     "metadata": {},
     "output_type": "execute_result"
    }
   ],
   "source": [
    "d"
   ]
  },
  {
   "cell_type": "code",
   "execution_count": null,
   "id": "3f71fde4-c8d7-4df2-be6e-d418072fb032",
   "metadata": {},
   "outputs": [],
   "source": []
  }
 ],
 "metadata": {
  "kernelspec": {
   "display_name": "Python 3 (ipykernel)",
   "language": "python",
   "name": "python3"
  },
  "language_info": {
   "codemirror_mode": {
    "name": "ipython",
    "version": 3
   },
   "file_extension": ".py",
   "mimetype": "text/x-python",
   "name": "python",
   "nbconvert_exporter": "python",
   "pygments_lexer": "ipython3",
   "version": "3.12.4"
  }
 },
 "nbformat": 4,
 "nbformat_minor": 5
}
