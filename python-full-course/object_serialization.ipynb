{
 "cells": [
  {
   "cell_type": "code",
   "execution_count": 1,
   "metadata": {},
   "outputs": [],
   "source": [
    "\"\"\"Pickling/Serialize\"\"\"\n",
    "import pickle\n",
    "\n",
    "f=open(\"pickled.txt\", \"wb\")\n",
    "\n",
    "dct={\"name\":\"Kajeev\", \"age\":23, \"Gender\":\"Male\", \"marks\":75}\n",
    "\n",
    "pickle.dump(dct, f)\n",
    "\n",
    "f.close()"
   ]
  },
  {
   "cell_type": "code",
   "execution_count": 4,
   "metadata": {},
   "outputs": [
    {
     "name": "stdout",
     "output_type": "stream",
     "text": [
      "{'name': 'Kajeev', 'age': 23, 'Gender': 'Male', 'marks': 75}\n"
     ]
    }
   ],
   "source": [
    "\"\"\"Deserialize/Unpickle/load\"\"\"\n",
    "import pickle\n",
    "\n",
    "f=open(\"pickled.txt\", \"rb\")\n",
    "\n",
    "d=pickle.load(f)\n",
    "\n",
    "print(d)\n",
    "\n",
    "f.close()"
   ]
  },
  {
   "cell_type": "code",
   "execution_count": 6,
   "metadata": {},
   "outputs": [
    {
     "data": {
      "text/plain": [
       "b'\\x80\\x04\\x959\\x00\\x00\\x00\\x00\\x00\\x00\\x00}\\x94(\\x8c\\x04name\\x94\\x8c\\x08Rajneesh\\x94\\x8c\\x03age\\x94K\\x17\\x8c\\x06Gender\\x94\\x8c\\x04Male\\x94\\x8c\\x05marks\\x94KKu.'"
      ]
     },
     "execution_count": 6,
     "metadata": {},
     "output_type": "execute_result"
    }
   ],
   "source": [
    "\"\"\"dumps/loads\"\"\"\n",
    "from pickle import dumps\n",
    "dct={\"name\":\"Rajneesh\",\"age\":23, \"Gender\":\"Male\", \"marks\":75}\n",
    "\n",
    "dctstring=dumps(dct)\n",
    "\n",
    "dctstring"
   ]
  },
  {
   "cell_type": "code",
   "execution_count": 7,
   "metadata": {},
   "outputs": [
    {
     "data": {
      "text/plain": [
       "{'name': 'Rajneesh', 'age': 23, 'Gender': 'Male', 'marks': 75}"
      ]
     },
     "execution_count": 7,
     "metadata": {},
     "output_type": "execute_result"
    }
   ],
   "source": [
    "from pickle import loads\n",
    "dct=loads(dctstring)\n",
    "dct"
   ]
  },
  {
   "cell_type": "code",
   "execution_count": 8,
   "metadata": {},
   "outputs": [],
   "source": [
    "import pickle\n",
    "\n",
    "def storeData():\n",
    "    #initializing data to be stored in db\n",
    "    Onkar = {'key' : 'Onkar', 'name' : 'Onkar Pathak', 'age' : 21, 'pay' : 40000}\n",
    "    Jagdish = {'key' : 'Jagdish', 'name' : 'Jagdish Pathak', 'age' : 50, 'pay' : 50000}\n",
    "\n",
    "    #database\n",
    "    db = {}\n",
    "    db['Onkar'] = Onkar\n",
    "    db['Jagdish'] = Jagdish\n",
    "\n",
    "    #Its important to use binary mode\n",
    "    dbfile = open('examplePickle', 'ab')\n",
    "\n",
    "    #source, destination\n",
    "    pickle.dump(db, dbfile)\n",
    "    dbfile.close()"
   ]
  },
  {
   "cell_type": "code",
   "execution_count": 9,
   "metadata": {},
   "outputs": [],
   "source": [
    "def loadData():\n",
    "    #for reading also binary mode is important\n",
    "    dbfile = open('examplePickle', 'rb')\n",
    "\n",
    "    db = pickle.load(dbfile)\n",
    "\n",
    "    for keys in db:\n",
    "        print(keys, '=>', db[keys])\n",
    "\n",
    "    dbfile.close()"
   ]
  },
  {
   "cell_type": "code",
   "execution_count": 10,
   "metadata": {},
   "outputs": [],
   "source": [
    "storeData()"
   ]
  },
  {
   "cell_type": "code",
   "execution_count": 11,
   "metadata": {},
   "outputs": [
    {
     "name": "stdout",
     "output_type": "stream",
     "text": [
      "Onkar => {'key': 'Onkar', 'name': 'Onkar Pathak', 'age': 21, 'pay': 40000}\n",
      "Jagdish => {'key': 'Jagdish', 'name': 'Jagdish Pathak', 'age': 50, 'pay': 50000}\n"
     ]
    }
   ],
   "source": [
    "loadData()"
   ]
  },
  {
   "cell_type": "code",
   "execution_count": null,
   "metadata": {},
   "outputs": [],
   "source": []
  }
 ],
 "metadata": {
  "kernelspec": {
   "display_name": "base",
   "language": "python",
   "name": "python3"
  },
  "language_info": {
   "codemirror_mode": {
    "name": "ipython",
    "version": 3
   },
   "file_extension": ".py",
   "mimetype": "text/x-python",
   "name": "python",
   "nbconvert_exporter": "python",
   "pygments_lexer": "ipython3",
   "version": "3.12.4"
  }
 },
 "nbformat": 4,
 "nbformat_minor": 2
}
