{
 "cells": [
  {
   "cell_type": "code",
   "execution_count": 1,
   "metadata": {},
   "outputs": [],
   "source": [
    "import math"
   ]
  },
  {
   "cell_type": "code",
   "execution_count": 2,
   "metadata": {},
   "outputs": [],
   "source": [
    "start_pos = [0, 0]\n",
    "end_pos = [0, 0]"
   ]
  },
  {
   "cell_type": "code",
   "execution_count": 3,
   "metadata": {},
   "outputs": [],
   "source": [
    "actions = [('UP', 5),\n",
    "           ('DOWN', 3),\n",
    "           ('LEFT', 3),\n",
    "           ('RIGHT', 2)]"
   ]
  },
  {
   "cell_type": "code",
   "execution_count": 4,
   "metadata": {},
   "outputs": [],
   "source": [
    "for action in actions:\n",
    "\n",
    "    #get the direction and steps\n",
    "    direction = action[0]\n",
    "    steps = action[1]\n",
    "\n",
    "    if direction == \"UP\":\n",
    "        end_pos[1] += steps\n",
    "\n",
    "    elif direction == \"DOWN\":\n",
    "        end_pos[1] -= steps\n",
    "\n",
    "    elif direction == \"LEFT\":\n",
    "        end_pos[0] -= steps\n",
    "\n",
    "    elif direction == \"RIGHT\":\n",
    "        end_pos[0] += steps\n",
    "\n",
    "    else:\n",
    "        pass\n"
   ]
  },
  {
   "cell_type": "code",
   "execution_count": 6,
   "metadata": {},
   "outputs": [
    {
     "data": {
      "text/plain": [
       "([-1, 2], [0, 0])"
      ]
     },
     "execution_count": 6,
     "metadata": {},
     "output_type": "execute_result"
    }
   ],
   "source": [
    "end_pos,start_pos"
   ]
  },
  {
   "cell_type": "code",
   "execution_count": 7,
   "metadata": {},
   "outputs": [],
   "source": [
    "# calculate minkowski distance\n",
    "def minkowski_distance(end_pos, start_pos, root):\n",
    "\n",
    "    dist = ((end_pos[0] - start_pos[0])**root + (end_pos[1] - start_pos[1])**root) **(1/root)\n",
    "\n",
    "    return dist"
   ]
  },
  {
   "cell_type": "code",
   "execution_count": 8,
   "metadata": {},
   "outputs": [
    {
     "name": "stdout",
     "output_type": "stream",
     "text": [
      "Minkowski distance with root = 1, is = 1.0\n",
      "Minkowski distance with root = 2, is = 2.23606797749979\n",
      "Minkowski distance with root = 3, is = 1.912931182772389\n"
     ]
    }
   ],
   "source": [
    "# try with root =1, 2, 3\n",
    "root = 1 \n",
    "print('Minkowski distance with root = {}, is = {}'.format(root, minkowski_distance(end_pos, start_pos, root)))\n",
    "\n",
    "root = 2 \n",
    "print('Minkowski distance with root = {}, is = {}'.format(root, minkowski_distance(end_pos, start_pos, root)))\n",
    "\n",
    "root = 3 \n",
    "print('Minkowski distance with root = {}, is = {}'.format(root, minkowski_distance(end_pos, start_pos, root)))"
   ]
  },
  {
   "cell_type": "code",
   "execution_count": null,
   "metadata": {},
   "outputs": [],
   "source": []
  }
 ],
 "metadata": {
  "kernelspec": {
   "display_name": "base",
   "language": "python",
   "name": "python3"
  },
  "language_info": {
   "codemirror_mode": {
    "name": "ipython",
    "version": 3
   },
   "file_extension": ".py",
   "mimetype": "text/x-python",
   "name": "python",
   "nbconvert_exporter": "python",
   "pygments_lexer": "ipython3",
   "version": "3.12.4"
  }
 },
 "nbformat": 4,
 "nbformat_minor": 2
}
