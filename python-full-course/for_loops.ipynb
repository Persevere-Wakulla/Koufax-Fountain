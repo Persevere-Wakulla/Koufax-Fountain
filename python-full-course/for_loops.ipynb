{
 "cells": [
  {
   "cell_type": "code",
   "execution_count": 1,
   "id": "51e12535-ca5a-4b3d-b968-bba1fa2c16a9",
   "metadata": {},
   "outputs": [
    {
     "data": {
      "text/plain": [
       "<list_iterator at 0x1a11352cbe0>"
      ]
     },
     "execution_count": 1,
     "metadata": {},
     "output_type": "execute_result"
    }
   ],
   "source": [
    "a = ['first', 'second', 'third', 'fourth', 'fifth']\n",
    "iter_a = iter(a)\n",
    "iter_a"
   ]
  },
  {
   "cell_type": "code",
   "execution_count": 2,
   "id": "70422ad8-dcfb-4a0b-a90b-773e222101bf",
   "metadata": {},
   "outputs": [
    {
     "data": {
      "text/plain": [
       "<tuple_iterator at 0x1a1136a33d0>"
      ]
     },
     "execution_count": 2,
     "metadata": {},
     "output_type": "execute_result"
    }
   ],
   "source": [
    "a = ('first', 'second', 'third', 'fourth', 'fifth')\n",
    "iter_a = iter(a)\n",
    "iter_a"
   ]
  },
  {
   "cell_type": "code",
   "execution_count": 3,
   "id": "7a3200f9-2832-4b67-8e01-61e89e7184b4",
   "metadata": {},
   "outputs": [
    {
     "data": {
      "text/plain": [
       "<set_iterator at 0x1a10b2bc040>"
      ]
     },
     "execution_count": 3,
     "metadata": {},
     "output_type": "execute_result"
    }
   ],
   "source": [
    "a = {'first' , 'second', 'third', 'fourth', 'fifth'}\n",
    "iter_a = iter(a)\n",
    "iter_a"
   ]
  },
  {
   "cell_type": "code",
   "execution_count": 8,
   "id": "92940e8b-3efd-4538-a891-a203164f55a3",
   "metadata": {},
   "outputs": [
    {
     "data": {
      "text/plain": [
       "<dict_keyiterator at 0x1a11372ea20>"
      ]
     },
     "execution_count": 8,
     "metadata": {},
     "output_type": "execute_result"
    }
   ],
   "source": [
    "a = {'first' : 1, 'second' : 2, 'third' : 3, 'fourth' : 4, 'fifth' : 5}\n",
    "iter_a = iter(a)\n",
    "iter_a"
   ]
  },
  {
   "cell_type": "code",
   "execution_count": 9,
   "id": "cc3958a2-bdd7-42fb-8f01-5cee4f9b7cd4",
   "metadata": {},
   "outputs": [
    {
     "data": {
      "text/plain": [
       "<list_iterator at 0x1a110765d50>"
      ]
     },
     "execution_count": 9,
     "metadata": {},
     "output_type": "execute_result"
    }
   ],
   "source": [
    "a = ['first', 'second', 'third', 'fourth', 'fifth']\n",
    "iter_a = iter(a)\n",
    "iter_a"
   ]
  },
  {
   "cell_type": "code",
   "execution_count": 10,
   "id": "db4e0cf8-b89c-44bf-8e7c-d713adb24cef",
   "metadata": {},
   "outputs": [
    {
     "data": {
      "text/plain": [
       "'first'"
      ]
     },
     "execution_count": 10,
     "metadata": {},
     "output_type": "execute_result"
    }
   ],
   "source": [
    "next(iter_a)"
   ]
  },
  {
   "cell_type": "code",
   "execution_count": 11,
   "id": "d170e6ba-1e0b-4167-832b-30a480a8372b",
   "metadata": {},
   "outputs": [
    {
     "data": {
      "text/plain": [
       "'second'"
      ]
     },
     "execution_count": 11,
     "metadata": {},
     "output_type": "execute_result"
    }
   ],
   "source": [
    "next(iter_a)"
   ]
  },
  {
   "cell_type": "code",
   "execution_count": 12,
   "id": "816227d5-edcf-49e2-a963-e696011ddcb5",
   "metadata": {},
   "outputs": [
    {
     "data": {
      "text/plain": [
       "'third'"
      ]
     },
     "execution_count": 12,
     "metadata": {},
     "output_type": "execute_result"
    }
   ],
   "source": [
    "next(iter_a)"
   ]
  },
  {
   "cell_type": "code",
   "execution_count": 13,
   "id": "82de3ff7-b693-4421-ace4-5972fb428c12",
   "metadata": {},
   "outputs": [
    {
     "data": {
      "text/plain": [
       "'fourth'"
      ]
     },
     "execution_count": 13,
     "metadata": {},
     "output_type": "execute_result"
    }
   ],
   "source": [
    "next(iter_a)"
   ]
  },
  {
   "cell_type": "code",
   "execution_count": 14,
   "id": "b3bfe17c-358f-4411-a9d2-e0ee65e499ab",
   "metadata": {},
   "outputs": [
    {
     "data": {
      "text/plain": [
       "'fifth'"
      ]
     },
     "execution_count": 14,
     "metadata": {},
     "output_type": "execute_result"
    }
   ],
   "source": [
    "next(iter_a)"
   ]
  },
  {
   "cell_type": "code",
   "execution_count": 16,
   "id": "e6a139fa-7992-49eb-aac6-a968b916ab2b",
   "metadata": {},
   "outputs": [
    {
     "name": "stdout",
     "output_type": "stream",
     "text": [
      "one\n",
      "two\n",
      "three\n",
      "four\n",
      "five\n"
     ]
    }
   ],
   "source": [
    "a = ['one', 'two', 'three', 'four', 'five']\n",
    "\n",
    "for x in a:\n",
    "    print(x)"
   ]
  },
  {
   "cell_type": "code",
   "execution_count": 19,
   "id": "bd4a9c1b-36d6-4f3e-92fc-77a70d5729d0",
   "metadata": {},
   "outputs": [],
   "source": [
    "x = range(5)"
   ]
  },
  {
   "cell_type": "code",
   "execution_count": 20,
   "id": "1affb940-5943-47eb-9d8a-fdca4bfa8229",
   "metadata": {},
   "outputs": [
    {
     "data": {
      "text/plain": [
       "range"
      ]
     },
     "execution_count": 20,
     "metadata": {},
     "output_type": "execute_result"
    }
   ],
   "source": [
    "type(x)"
   ]
  },
  {
   "cell_type": "code",
   "execution_count": 21,
   "id": "ef4ccca0-fbc0-46c4-976e-9428a7d86f21",
   "metadata": {},
   "outputs": [
    {
     "name": "stdout",
     "output_type": "stream",
     "text": [
      "0\n",
      "1\n",
      "2\n",
      "3\n",
      "4\n"
     ]
    }
   ],
   "source": [
    "for i in x:\n",
    "    print(i)"
   ]
  },
  {
   "cell_type": "code",
   "execution_count": 22,
   "id": "558c2bbf-92ab-49c9-ba24-3fce5da1a55e",
   "metadata": {},
   "outputs": [
    {
     "data": {
      "text/plain": [
       "['one', 'two', 'three', 'four', 'five']"
      ]
     },
     "execution_count": 22,
     "metadata": {},
     "output_type": "execute_result"
    }
   ],
   "source": [
    "a"
   ]
  },
  {
   "cell_type": "code",
   "execution_count": 23,
   "id": "418dde03-8e2e-4ad0-bf08-4119b6d251a7",
   "metadata": {},
   "outputs": [
    {
     "data": {
      "text/plain": [
       "5"
      ]
     },
     "execution_count": 23,
     "metadata": {},
     "output_type": "execute_result"
    }
   ],
   "source": [
    "len(a)"
   ]
  },
  {
   "cell_type": "code",
   "execution_count": 24,
   "id": "204e1155-9097-45a9-9c3e-852156210741",
   "metadata": {},
   "outputs": [
    {
     "name": "stdout",
     "output_type": "stream",
     "text": [
      "0\n",
      "1\n",
      "2\n",
      "3\n",
      "4\n"
     ]
    }
   ],
   "source": [
    "#used alot in data science and ML\n",
    "for i in range(len(a)):\n",
    "    print(i)"
   ]
  },
  {
   "cell_type": "code",
   "execution_count": 27,
   "id": "1ade8280-e688-4829-b174-fdc988a1dff4",
   "metadata": {},
   "outputs": [],
   "source": [
    "a = {'first' : 1, 'second' : 2, 'third' : 3, 'fourth' : 4, 'fifth' : 5}"
   ]
  },
  {
   "cell_type": "code",
   "execution_count": 31,
   "id": "02c571fd-b70e-4558-9500-ff152d86f64b",
   "metadata": {},
   "outputs": [],
   "source": [
    "iter_a = iter(a.values())"
   ]
  },
  {
   "cell_type": "code",
   "execution_count": 32,
   "id": "b9be4b6c-78f8-4064-a523-98f19177e06f",
   "metadata": {},
   "outputs": [
    {
     "data": {
      "text/plain": [
       "<dict_valueiterator at 0x1a1144c1cb0>"
      ]
     },
     "execution_count": 32,
     "metadata": {},
     "output_type": "execute_result"
    }
   ],
   "source": [
    "iter_a"
   ]
  },
  {
   "cell_type": "code",
   "execution_count": 33,
   "id": "9f3d21c7-e1b6-4cf3-8aa9-4edd9b534d44",
   "metadata": {},
   "outputs": [
    {
     "name": "stdout",
     "output_type": "stream",
     "text": [
      "1\n",
      "2\n",
      "3\n",
      "4\n",
      "5\n"
     ]
    }
   ],
   "source": [
    "for i in iter_a:\n",
    "    print(i)"
   ]
  },
  {
   "cell_type": "code",
   "execution_count": null,
   "id": "2a5ef5ac-06a1-4d6b-8749-a90348979a39",
   "metadata": {},
   "outputs": [],
   "source": []
  }
 ],
 "metadata": {
  "kernelspec": {
   "display_name": "Python 3 (ipykernel)",
   "language": "python",
   "name": "python3"
  },
  "language_info": {
   "codemirror_mode": {
    "name": "ipython",
    "version": 3
   },
   "file_extension": ".py",
   "mimetype": "text/x-python",
   "name": "python",
   "nbconvert_exporter": "python",
   "pygments_lexer": "ipython3",
   "version": "3.12.4"
  }
 },
 "nbformat": 4,
 "nbformat_minor": 5
}
