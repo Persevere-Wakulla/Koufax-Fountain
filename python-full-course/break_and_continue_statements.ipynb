{
 "cells": [
  {
   "cell_type": "code",
   "execution_count": 6,
   "id": "0457bf1c-e71d-4785-95f7-5cf479c31571",
   "metadata": {},
   "outputs": [
    {
     "name": "stdout",
     "output_type": "stream",
     "text": [
      "Value of n is: 0\n",
      "hello\n",
      "Value of n is: 1\n",
      "Value of n is: 2\n",
      "hello\n",
      "Value of n is: 3\n",
      "hello\n",
      "Value of n is: 4\n",
      "hello\n",
      "Value of n is: 5\n",
      "hello\n"
     ]
    }
   ],
   "source": [
    "n = 0\n",
    "while n <= 5:\n",
    "    print('Value of n is:', n)\n",
    "    n += 1\n",
    "    if n == 2: \n",
    "        continue\n",
    "    print(\"hello\")"
   ]
  },
  {
   "cell_type": "code",
   "execution_count": null,
   "id": "f3b65d5b-5433-4e5e-a3fd-a054e9f5222a",
   "metadata": {},
   "outputs": [],
   "source": [
    "# Write a program to generate factorial numbers (using while loop)"
   ]
  },
  {
   "cell_type": "code",
   "execution_count": 9,
   "id": "6d0af218-01f2-4fbe-add9-2837666b8609",
   "metadata": {},
   "outputs": [
    {
     "name": "stdout",
     "output_type": "stream",
     "text": [
      "Enter number: \n"
     ]
    },
    {
     "name": "stdin",
     "output_type": "stream",
     "text": [
      " 8\n"
     ]
    },
    {
     "name": "stdout",
     "output_type": "stream",
     "text": [
      "factorial of 8 is 40320\n"
     ]
    }
   ],
   "source": [
    "print (\"Enter number: \")\n",
    "number = int(input())\n",
    "\n",
    "number_entered = number\n",
    "\n",
    "fac = 1\n",
    "\n",
    "if number == 0:\n",
    "    result = 1\n",
    "else:\n",
    "    while number>=1:\n",
    "        fac = fac*number\n",
    "        number = number-1\n",
    "    result = fac\n",
    "\n",
    "print('factorial of {} is {}'.format(number_entered, result))"
   ]
  },
  {
   "cell_type": "code",
   "execution_count": null,
   "id": "4f7d1352-7f83-486f-a2cd-e89a47c17a0c",
   "metadata": {},
   "outputs": [],
   "source": [
    "# Write a program to generate fibboanci numbers (using while loop)"
   ]
  },
  {
   "cell_type": "code",
   "execution_count": 13,
   "id": "3681fb7c-ec08-4ca6-9a2f-af16cf34811e",
   "metadata": {},
   "outputs": [
    {
     "name": "stdin",
     "output_type": "stream",
     "text": [
      "How many fibonacci numbers would you like to generate?  10\n"
     ]
    },
    {
     "name": "stdout",
     "output_type": "stream",
     "text": [
      "[1, 1, 2, 3, 5, 8, 13, 21, 34, 55]\n"
     ]
    }
   ],
   "source": [
    "count = int(input(\"How many fibonacci numbers would you like to generate? \"))\n",
    "\n",
    "i = 1\n",
    "\n",
    "if count == 0:\n",
    "    fib = []\n",
    "elif count == 1:\n",
    "    fib = [1]\n",
    "elif count == 2:\n",
    "    fib = [1,1]\n",
    "elif count > 2:\n",
    "    fib = [1,1]\n",
    "    while i < (count - 1):\n",
    "        fib.append(fib[i] + fib[i-1])\n",
    "        i += 1\n",
    "\n",
    "# print the series\n",
    "print(fib)"
   ]
  },
  {
   "cell_type": "code",
   "execution_count": 17,
   "id": "56ac4aa2-ab81-4826-a64e-2d1d48d034ab",
   "metadata": {},
   "outputs": [
    {
     "name": "stdin",
     "output_type": "stream",
     "text": [
      "Enter array dimension (n , n e.g. 3 , 5) :  2,4\n"
     ]
    },
    {
     "name": "stdout",
     "output_type": "stream",
     "text": [
      "2,4\n",
      "[[0, 0, 0, 0], [0, 1, 2, 3]]\n"
     ]
    }
   ],
   "source": [
    "input_str = input(\"Enter array dimension (n , n e.g. 3 , 5) : \")\n",
    "\n",
    "print(input_str)\n",
    "\n",
    "dimensions=[int(x) for x in input_str.split(',')]\n",
    "\n",
    "rowNum = dimensions[0]\n",
    "colNum = dimensions[1]\n",
    "\n",
    "multilist = [[0 for col in range(colNum)] for row in range(rowNum)]\n",
    "\n",
    "for row in range(rowNum):\n",
    "    for col in range(colNum):\n",
    "        multilist[row][col]= row*col\n",
    "\n",
    "print (multilist)"
   ]
  },
  {
   "cell_type": "code",
   "execution_count": null,
   "id": "afec138f-7199-465b-a694-b024f457bd84",
   "metadata": {},
   "outputs": [],
   "source": []
  }
 ],
 "metadata": {
  "kernelspec": {
   "display_name": "Python 3 (ipykernel)",
   "language": "python",
   "name": "python3"
  },
  "language_info": {
   "codemirror_mode": {
    "name": "ipython",
    "version": 3
   },
   "file_extension": ".py",
   "mimetype": "text/x-python",
   "name": "python",
   "nbconvert_exporter": "python",
   "pygments_lexer": "ipython3",
   "version": "3.12.4"
  }
 },
 "nbformat": 4,
 "nbformat_minor": 5
}
