{
 "cells": [
  {
   "cell_type": "code",
   "execution_count": 1,
   "metadata": {},
   "outputs": [
    {
     "name": "stdout",
     "output_type": "stream",
     "text": [
      "4\n"
     ]
    }
   ],
   "source": [
    "x = lambda a,b: a+b\n",
    "print(x(1,3))"
   ]
  },
  {
   "cell_type": "code",
   "execution_count": 2,
   "metadata": {},
   "outputs": [
    {
     "name": "stdout",
     "output_type": "stream",
     "text": [
      "48\n"
     ]
    }
   ],
   "source": [
    "x = lambda a,b,c: a*b*c\n",
    "print(x(2,4,6))"
   ]
  },
  {
   "cell_type": "code",
   "execution_count": 3,
   "metadata": {},
   "outputs": [
    {
     "name": "stdout",
     "output_type": "stream",
     "text": [
      "['a', 'e', 'i', 'o', 'u']\n"
     ]
    }
   ],
   "source": [
    "py_list = ['e', 'a', 'u', 'o', 'i']\n",
    "print(sorted(py_list))"
   ]
  },
  {
   "cell_type": "code",
   "execution_count": 4,
   "metadata": {},
   "outputs": [
    {
     "name": "stdout",
     "output_type": "stream",
     "text": [
      "['P', 'h', 'n', 'o', 't', 'y']\n"
     ]
    }
   ],
   "source": [
    "py_string = 'Python'\n",
    "print(sorted(py_string))"
   ]
  },
  {
   "cell_type": "code",
   "execution_count": 5,
   "metadata": {},
   "outputs": [
    {
     "name": "stdout",
     "output_type": "stream",
     "text": [
      "['u', 'o', 'i', 'e', 'a']\n"
     ]
    }
   ],
   "source": [
    "py_list = ['e', 'a', 'u', 'o', 'i']\n",
    "print(sorted(py_list,reverse = True))"
   ]
  },
  {
   "cell_type": "code",
   "execution_count": 6,
   "metadata": {},
   "outputs": [],
   "source": [
    "def take_second(elem):\n",
    "    return elem[1]"
   ]
  },
  {
   "cell_type": "code",
   "execution_count": 7,
   "metadata": {},
   "outputs": [],
   "source": [
    "random = [(2, 20), (3, 40), (4, 10), (1, 13)]"
   ]
  },
  {
   "cell_type": "code",
   "execution_count": 8,
   "metadata": {},
   "outputs": [],
   "source": [
    "sorted_list = sorted(random,key=take_second)"
   ]
  },
  {
   "cell_type": "code",
   "execution_count": 9,
   "metadata": {},
   "outputs": [
    {
     "name": "stdout",
     "output_type": "stream",
     "text": [
      "[(4, 10), (1, 13), (2, 20), (3, 40)]\n"
     ]
    }
   ],
   "source": [
    "print(sorted_list)"
   ]
  },
  {
   "cell_type": "code",
   "execution_count": 13,
   "metadata": {},
   "outputs": [],
   "source": [
    "# Initializing list of dictionaries\n",
    "lis = [{\"name\" : \"Nandini\", \"age\" : 20},\n",
    "       {\"name\" : \"Manjest\", \"age\" : 20},\n",
    "       {\"name\" : \"Wishil\", \"age\" : 19}]"
   ]
  },
  {
   "cell_type": "code",
   "execution_count": 19,
   "metadata": {},
   "outputs": [
    {
     "name": "stdout",
     "output_type": "stream",
     "text": [
      "The list printed sorted by age: \n",
      "\n",
      "[{'name': 'Nandini', 'age': 20}, {'name': 'Manjest', 'age': 20}, {'name': 'Wishil', 'age': 19}]\n"
     ]
    }
   ],
   "source": [
    "# using sorted and lambda to print list sorted by age\n",
    "print(\"The list printed sorted by age: \\n\")\n",
    "print(sorted(lis, key = lambda i: i['age'], reverse=True))"
   ]
  },
  {
   "cell_type": "code",
   "execution_count": 18,
   "metadata": {},
   "outputs": [
    {
     "name": "stdout",
     "output_type": "stream",
     "text": [
      "The list printed sorted by age and name: \n",
      "\n",
      "[{'name': 'Nandini', 'age': 20}, {'name': 'Manjest', 'age': 20}, {'name': 'Wishil', 'age': 19}]\n"
     ]
    }
   ],
   "source": [
    "print(\"The list printed sorted by age and name: \\n\")\n",
    "print(sorted(lis, key = lambda i: (i['age'], i['name']), reverse=True))"
   ]
  },
  {
   "cell_type": "code",
   "execution_count": null,
   "metadata": {},
   "outputs": [],
   "source": []
  }
 ],
 "metadata": {
  "kernelspec": {
   "display_name": "base",
   "language": "python",
   "name": "python3"
  },
  "language_info": {
   "codemirror_mode": {
    "name": "ipython",
    "version": 3
   },
   "file_extension": ".py",
   "mimetype": "text/x-python",
   "name": "python",
   "nbconvert_exporter": "python",
   "pygments_lexer": "ipython3",
   "version": "3.12.4"
  }
 },
 "nbformat": 4,
 "nbformat_minor": 2
}
