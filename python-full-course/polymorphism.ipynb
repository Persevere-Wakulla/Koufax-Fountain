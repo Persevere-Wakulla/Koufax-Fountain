{
 "cells": [
  {
   "cell_type": "code",
   "execution_count": 2,
   "metadata": {},
   "outputs": [
    {
     "name": "stdout",
     "output_type": "stream",
     "text": [
      "3\n",
      "Python Programming\n"
     ]
    }
   ],
   "source": [
    "num1 = 1\n",
    "num2 = 2\n",
    "print(num1+num2)\n",
    "\n",
    "str1 = \"Python \"\n",
    "str2 = \"Programming\"\n",
    "print(str1+str2)\n"
   ]
  },
  {
   "cell_type": "code",
   "execution_count": 8,
   "metadata": {},
   "outputs": [
    {
     "name": "stdout",
     "output_type": "stream",
     "text": [
      "(4, 6)\n"
     ]
    }
   ],
   "source": [
    "class Point:\n",
    "    def __init__(self, x, y):\n",
    "        self.x = x\n",
    "        self.y = y\n",
    "\n",
    "    #overriding magic method\n",
    "    def __add__(self, other):\n",
    "        return self.x + other.x, self.y + other.y\n",
    "\n",
    "p1 = Point(1, 2)        \n",
    "p2 = Point(3, 4)    \n",
    "\n",
    "print(p1+p2)"
   ]
  },
  {
   "cell_type": "code",
   "execution_count": 9,
   "metadata": {},
   "outputs": [
    {
     "name": "stdout",
     "output_type": "stream",
     "text": [
      "60\n"
     ]
    }
   ],
   "source": [
    "#Overloading '*' operator in Python\n",
    "class Point:\n",
    "    def __init__(self, x):\n",
    "        self.x = x\n",
    "\n",
    "    #overriding magic method\n",
    "    def __mul__(self, other):\n",
    "        return self.x * other.x\n",
    "    \n",
    "p1 = Point(12)\n",
    "p2 = Point(5)\n",
    "\n",
    "print(p1*p2)"
   ]
  },
  {
   "cell_type": "code",
   "execution_count": 10,
   "metadata": {},
   "outputs": [
    {
     "name": "stdout",
     "output_type": "stream",
     "text": [
      "John earns more than Natasha - False\n"
     ]
    }
   ],
   "source": [
    "#Overloading comparison operator (>)\n",
    "class Person:\n",
    "    def __init__(self, name, salary):\n",
    "        self.name = name\n",
    "        self.salary = salary\n",
    "\n",
    "    #overriding magic method\n",
    "    def __gt__(self, other):\n",
    "        return self.salary > other.salary\n",
    "    \n",
    "obj1 = Person('John', 4500)\n",
    "obj2 = Person('Natasha', 6000)\n",
    "\n",
    "print(obj1.name, 'earns more than', obj2.name, '-', obj1 > obj2)"
   ]
  },
  {
   "cell_type": "code",
   "execution_count": null,
   "metadata": {},
   "outputs": [],
   "source": []
  }
 ],
 "metadata": {
  "kernelspec": {
   "display_name": "base",
   "language": "python",
   "name": "python3"
  },
  "language_info": {
   "codemirror_mode": {
    "name": "ipython",
    "version": 3
   },
   "file_extension": ".py",
   "mimetype": "text/x-python",
   "name": "python",
   "nbconvert_exporter": "python",
   "pygments_lexer": "ipython3",
   "version": "3.12.4"
  }
 },
 "nbformat": 4,
 "nbformat_minor": 2
}
