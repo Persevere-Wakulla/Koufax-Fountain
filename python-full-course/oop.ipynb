{
 "cells": [
  {
   "cell_type": "code",
   "execution_count": 5,
   "metadata": {},
   "outputs": [],
   "source": [
    "from math import pi\n",
    "\n",
    "class Circle:\n",
    "    \"\"\"A Circle instance models a circle with a radius\"\"\"\n",
    "\n",
    "    shape_object = 'Circle'\n",
    "\n",
    "    def __init__(self, radius=1.0):\n",
    "        \"\"\"Initializer with default radius of 1.0\"\"\"\n",
    "        self.radius = radius #Create an instance variable radius\n",
    "\n",
    "    #  Replace .description() with __str__()\n",
    "    def __str__(self):\n",
    "        \"\"\"Return a descriptive string for this instance, invoked by print() and str()\"\"\"\n",
    "        return 'This is a circle with radius of {:.2f}'.format(self.radius)\n",
    "    \n",
    "    def get_area(self):\n",
    "        \"\"\"Return the area of this circle instance\"\"\"\n",
    "        return self.radius * self.radius * pi \n"
   ]
  },
  {
   "cell_type": "code",
   "execution_count": 6,
   "metadata": {},
   "outputs": [],
   "source": [
    "\n",
    "class Cylinder(Circle):\n",
    "    \"\"\"The Cylinder class is a subclass of Circle\"\"\"\n",
    "\n",
    "    def __init__(self, radius = 1.0, height = 1.0):\n",
    "        \"\"\"Initializer\"\"\"\n",
    "        super().__init__(radius) #Invoke superclass' initializer (Python 3)\n",
    "        #OR\n",
    "        #super(Cylinder, self).__init__(radius) (Python 2)\n",
    "        #Circle.__init__(self, radius)\n",
    "        self.height = height\n",
    "\n",
    "    def __str__(self):\n",
    "        \"\"\"Self Description for print() and str()\"\"\"\n",
    "        # If __str__ is missing in the subclass, print() will invoke the superclass version!\n",
    "        return 'Cylinder(radius{},height{})'.format(self.radius,self.height)\n",
    "    \n",
    "    def get_volume(self):\n",
    "        \"\"\"Return the volume of the cylinder\"\"\"\n",
    "        return self.get_area() * self.height #Inherited get.area()"
   ]
  },
  {
   "cell_type": "code",
   "execution_count": 7,
   "metadata": {},
   "outputs": [],
   "source": [
    "cy1 = Cylinder(1.1, 2.2) #Output: Cylinder(radius=1.10,height=2.20)"
   ]
  },
  {
   "cell_type": "code",
   "execution_count": 9,
   "metadata": {},
   "outputs": [
    {
     "name": "stdout",
     "output_type": "stream",
     "text": [
      "Cylinder(radius1.1,height2.2)\n"
     ]
    }
   ],
   "source": [
    "print(cy1)"
   ]
  },
  {
   "cell_type": "code",
   "execution_count": 10,
   "metadata": {},
   "outputs": [
    {
     "name": "stdout",
     "output_type": "stream",
     "text": [
      "3.8013271108436504\n"
     ]
    }
   ],
   "source": [
    "print(cy1.get_area()) #Use superclass' method"
   ]
  },
  {
   "cell_type": "code",
   "execution_count": 11,
   "metadata": {},
   "outputs": [
    {
     "name": "stdout",
     "output_type": "stream",
     "text": [
      "8.362919643856031\n"
     ]
    }
   ],
   "source": [
    "print(cy1.get_volume()) #Invoke its method"
   ]
  },
  {
   "cell_type": "code",
   "execution_count": 12,
   "metadata": {},
   "outputs": [
    {
     "name": "stdout",
     "output_type": "stream",
     "text": [
      "1.1\n",
      "2.2\n"
     ]
    }
   ],
   "source": [
    "print(cy1.radius)\n",
    "print(cy1.height)"
   ]
  },
  {
   "cell_type": "code",
   "execution_count": 13,
   "metadata": {},
   "outputs": [
    {
     "name": "stdout",
     "output_type": "stream",
     "text": [
      "Cylinder(radius1.0,height1.0)\n",
      "3.141592653589793\n",
      "3.141592653589793\n"
     ]
    }
   ],
   "source": [
    "cy2 = Cylinder() #Default radius and height\n",
    "print(cy2)\n",
    "print(cy2.get_area())\n",
    "print(cy2.get_volume())"
   ]
  },
  {
   "cell_type": "code",
   "execution_count": 14,
   "metadata": {},
   "outputs": [
    {
     "name": "stdout",
     "output_type": "stream",
     "text": [
      "['__class__', '__delattr__', '__dict__', '__dir__', '__doc__', '__eq__', '__format__', '__ge__', '__getattribute__', '__getstate__', '__gt__', '__hash__', '__init__', '__init_subclass__', '__le__', '__lt__', '__module__', '__ne__', '__new__', '__reduce__', '__reduce_ex__', '__repr__', '__setattr__', '__sizeof__', '__str__', '__subclasshook__', '__weakref__', 'get_area', 'get_volume', 'height', 'radius', 'shape_object']\n"
     ]
    }
   ],
   "source": [
    "print(dir(cy1))\n",
    "# ['get_area', 'get_volume', 'height', 'radius', ..."
   ]
  },
  {
   "cell_type": "code",
   "execution_count": 15,
   "metadata": {},
   "outputs": [
    {
     "name": "stdout",
     "output_type": "stream",
     "text": [
      "This is a circle with radius of 3.30\n",
      "True\n",
      "False\n"
     ]
    }
   ],
   "source": [
    "c1 = Circle(3.3)\n",
    "print(c1) #Output: This is a circle with the radius 0f 3.30\n",
    "\n",
    "print(isinstance(c1, Circle)) #True\n",
    "print(isinstance(c1, Cylinder)) #False (A superclass object is NOT asubclass object )"
   ]
  },
  {
   "cell_type": "code",
   "execution_count": null,
   "metadata": {},
   "outputs": [],
   "source": []
  }
 ],
 "metadata": {
  "kernelspec": {
   "display_name": "base",
   "language": "python",
   "name": "python3"
  },
  "language_info": {
   "codemirror_mode": {
    "name": "ipython",
    "version": 3
   },
   "file_extension": ".py",
   "mimetype": "text/x-python",
   "name": "python",
   "nbconvert_exporter": "python",
   "pygments_lexer": "ipython3",
   "version": "3.12.4"
  }
 },
 "nbformat": 4,
 "nbformat_minor": 2
}
