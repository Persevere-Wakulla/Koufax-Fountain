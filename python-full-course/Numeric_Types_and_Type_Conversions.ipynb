{
 "cells": [
  {
   "cell_type": "code",
   "execution_count": 1,
   "id": "adedce4f-137a-4b30-889a-b83191cd0660",
   "metadata": {},
   "outputs": [
    {
     "data": {
      "text/plain": [
       "(3+7j)"
      ]
     },
     "execution_count": 1,
     "metadata": {},
     "output_type": "execute_result"
    }
   ],
   "source": [
    "3 + 7j"
   ]
  },
  {
   "cell_type": "code",
   "execution_count": 2,
   "id": "31fdfd0e-91e7-4abf-8a38-86ece373104a",
   "metadata": {},
   "outputs": [],
   "source": [
    "x = '145'"
   ]
  },
  {
   "cell_type": "code",
   "execution_count": 3,
   "id": "36f12be5-a375-4a81-bfd8-8fbc1235b6a8",
   "metadata": {},
   "outputs": [
    {
     "data": {
      "text/plain": [
       "str"
      ]
     },
     "execution_count": 3,
     "metadata": {},
     "output_type": "execute_result"
    }
   ],
   "source": [
    "type(x)"
   ]
  },
  {
   "cell_type": "code",
   "execution_count": 4,
   "id": "8c45f232-78f4-45df-9e9d-815a44973812",
   "metadata": {},
   "outputs": [],
   "source": [
    "y = int(x)"
   ]
  },
  {
   "cell_type": "code",
   "execution_count": 5,
   "id": "8de7c24f-17ee-47b4-988e-49f015b16d58",
   "metadata": {},
   "outputs": [
    {
     "data": {
      "text/plain": [
       "145"
      ]
     },
     "execution_count": 5,
     "metadata": {},
     "output_type": "execute_result"
    }
   ],
   "source": [
    "y"
   ]
  },
  {
   "cell_type": "code",
   "execution_count": 6,
   "id": "9b465331-8198-42a2-8134-093e79d84a51",
   "metadata": {},
   "outputs": [
    {
     "data": {
      "text/plain": [
       "int"
      ]
     },
     "execution_count": 6,
     "metadata": {},
     "output_type": "execute_result"
    }
   ],
   "source": [
    "type(y)"
   ]
  },
  {
   "cell_type": "code",
   "execution_count": 7,
   "id": "bb59959e-dd5e-4e02-91d2-4412bb60b045",
   "metadata": {},
   "outputs": [],
   "source": [
    "y = int(x,8)"
   ]
  },
  {
   "cell_type": "code",
   "execution_count": 8,
   "id": "5a1be336-5995-47c9-ba42-88131134c6cb",
   "metadata": {},
   "outputs": [
    {
     "data": {
      "text/plain": [
       "101"
      ]
     },
     "execution_count": 8,
     "metadata": {},
     "output_type": "execute_result"
    }
   ],
   "source": [
    "y"
   ]
  },
  {
   "cell_type": "code",
   "execution_count": 9,
   "id": "850a5c26-19e9-44c6-9967-f4fa04b3d017",
   "metadata": {},
   "outputs": [
    {
     "data": {
      "text/plain": [
       "120.0"
      ]
     },
     "execution_count": 9,
     "metadata": {},
     "output_type": "execute_result"
    }
   ],
   "source": [
    "float(120)"
   ]
  },
  {
   "cell_type": "code",
   "execution_count": 10,
   "id": "fbc37684-56e7-40ea-9a4b-13d743a70fe5",
   "metadata": {},
   "outputs": [
    {
     "data": {
      "text/plain": [
       "int"
      ]
     },
     "execution_count": 10,
     "metadata": {},
     "output_type": "execute_result"
    }
   ],
   "source": [
    "type(688)"
   ]
  },
  {
   "cell_type": "code",
   "execution_count": 12,
   "id": "99303ed1-d527-4763-96ca-20cb1eb5878a",
   "metadata": {},
   "outputs": [],
   "source": [
    "a = str(688)"
   ]
  },
  {
   "cell_type": "code",
   "execution_count": 13,
   "id": "f94038fa-8360-4a44-999c-a9272fec9623",
   "metadata": {},
   "outputs": [
    {
     "data": {
      "text/plain": [
       "'688'"
      ]
     },
     "execution_count": 13,
     "metadata": {},
     "output_type": "execute_result"
    }
   ],
   "source": [
    "a"
   ]
  },
  {
   "cell_type": "code",
   "execution_count": 14,
   "id": "47c5d06c-33a7-4050-88b8-5cd4d1e1673d",
   "metadata": {},
   "outputs": [
    {
     "data": {
      "text/plain": [
       "str"
      ]
     },
     "execution_count": 14,
     "metadata": {},
     "output_type": "execute_result"
    }
   ],
   "source": [
    "type(a)"
   ]
  },
  {
   "cell_type": "code",
   "execution_count": 15,
   "id": "d3eaf483-e305-4617-bf7e-497b3a537ad7",
   "metadata": {},
   "outputs": [
    {
     "data": {
      "text/plain": [
       "'0x2b0'"
      ]
     },
     "execution_count": 15,
     "metadata": {},
     "output_type": "execute_result"
    }
   ],
   "source": [
    "hex(688)"
   ]
  },
  {
   "cell_type": "code",
   "execution_count": 16,
   "id": "7623aa68-bab5-4820-b6b0-6e27066e683f",
   "metadata": {},
   "outputs": [
    {
     "data": {
      "text/plain": [
       "'0o1260'"
      ]
     },
     "execution_count": 16,
     "metadata": {},
     "output_type": "execute_result"
    }
   ],
   "source": [
    "oct(688)"
   ]
  },
  {
   "cell_type": "code",
   "execution_count": 17,
   "id": "24b4fcdc-7fa6-4e8d-be51-fcfeb462a927",
   "metadata": {},
   "outputs": [
    {
     "data": {
      "text/plain": [
       "(5+3.1j)"
      ]
     },
     "execution_count": 17,
     "metadata": {},
     "output_type": "execute_result"
    }
   ],
   "source": [
    "complex(5,3.1)"
   ]
  },
  {
   "cell_type": "code",
   "execution_count": 18,
   "id": "b326469e-d5bc-4298-aa53-d09f8cf2831e",
   "metadata": {},
   "outputs": [
    {
     "data": {
      "text/plain": [
       "('r', 'a', 'n', 'd', 'o', 'm')"
      ]
     },
     "execution_count": 18,
     "metadata": {},
     "output_type": "execute_result"
    }
   ],
   "source": [
    "tuple('random')"
   ]
  },
  {
   "cell_type": "code",
   "execution_count": 19,
   "id": "95dcf741-a06a-417f-8e0f-28b4cceb5b70",
   "metadata": {},
   "outputs": [
    {
     "data": {
      "text/plain": [
       "['r', 'a', 'n', 'd', 'o', 'm']"
      ]
     },
     "execution_count": 19,
     "metadata": {},
     "output_type": "execute_result"
    }
   ],
   "source": [
    "list('random')"
   ]
  },
  {
   "cell_type": "code",
   "execution_count": 20,
   "id": "9410f103-45a6-4ba7-a081-e89184e391d8",
   "metadata": {},
   "outputs": [
    {
     "data": {
      "text/plain": [
       "{'a', 'd', 'm', 'n', 'o', 'r'}"
      ]
     },
     "execution_count": 20,
     "metadata": {},
     "output_type": "execute_result"
    }
   ],
   "source": [
    "set('random')"
   ]
  },
  {
   "cell_type": "code",
   "execution_count": null,
   "id": "b52c044c-06fa-49aa-9df3-9400bc2141b1",
   "metadata": {},
   "outputs": [],
   "source": []
  }
 ],
 "metadata": {
  "kernelspec": {
   "display_name": "Python 3 (ipykernel)",
   "language": "python",
   "name": "python3"
  },
  "language_info": {
   "codemirror_mode": {
    "name": "ipython",
    "version": 3
   },
   "file_extension": ".py",
   "mimetype": "text/x-python",
   "name": "python",
   "nbconvert_exporter": "python",
   "pygments_lexer": "ipython3",
   "version": "3.12.4"
  }
 },
 "nbformat": 4,
 "nbformat_minor": 5
}
