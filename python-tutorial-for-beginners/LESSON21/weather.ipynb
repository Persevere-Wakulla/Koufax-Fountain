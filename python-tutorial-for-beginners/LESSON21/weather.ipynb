{
 "cells": [
  {
   "cell_type": "code",
   "execution_count": 4,
   "metadata": {},
   "outputs": [
    {
     "data": {
      "text/plain": [
       "True"
      ]
     },
     "execution_count": 4,
     "metadata": {},
     "output_type": "execute_result"
    }
   ],
   "source": [
    "import requests\n",
    "from dotenv import load_dotenv\n",
    "import os\n",
    "\n",
    "load_dotenv()"
   ]
  },
  {
   "cell_type": "code",
   "execution_count": 6,
   "metadata": {},
   "outputs": [
    {
     "name": "stdout",
     "output_type": "stream",
     "text": [
      "\n",
      "***Get Current Weather Conditions ***\n",
      "\n",
      "https://api.openweathermap.org/data/2.5/weather?appid=#paste API key here&q=Bainbridge Georgia&units=imperial\n"
     ]
    }
   ],
   "source": [
    "def get_current_weather():\n",
    "    print('\\n***Get Current Weather Conditions ***\\n')\n",
    "    \n",
    "    city = input('\\nPlease enter a city name:\\n')\n",
    "    \n",
    "    request_url = f'https://api.openweathermap.org/data/2.5/weather?appid={os.getenv(\"API_KEY\")}&q={city}&units=imperial'\n",
    "    \n",
    "    print(request_url)\n",
    "    \n",
    "get_current_weather()\n"
   ]
  },
  {
   "cell_type": "code",
   "execution_count": null,
   "metadata": {},
   "outputs": [],
   "source": []
  }
 ],
 "metadata": {
  "kernelspec": {
   "display_name": "base",
   "language": "python",
   "name": "python3"
  },
  "language_info": {
   "codemirror_mode": {
    "name": "ipython",
    "version": 3
   },
   "file_extension": ".py",
   "mimetype": "text/x-python",
   "name": "python",
   "nbconvert_exporter": "python",
   "pygments_lexer": "ipython3",
   "version": "3.12.4"
  }
 },
 "nbformat": 4,
 "nbformat_minor": 2
}
