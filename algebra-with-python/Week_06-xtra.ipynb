{
 "cells": [
  {
   "cell_type": "markdown",
   "metadata": {},
   "source": [
    "# Step 0 - Acquire the testing library\n"
   ]
  },
  {
   "cell_type": "markdown",
   "metadata": {},
   "source": [
    "Please run this code to get the library file from FreeCodeCamp. Each step will use this library to test your code. You do not need to edit anything; just run this code cell and wait a few seconds until it tells you to go to the next step."
   ]
  },
  {
   "cell_type": "code",
   "execution_count": null,
   "metadata": {},
   "outputs": [],
   "source": [
    "# You may need to run this cell at the beginning of each new session\n",
    "\n",
    "%pip install requests\n",
    "\n",
    "# This will just take a few seconds\n",
    "\n",
    "import requests\n",
    "\n",
    "# Get the library from GitHub\n",
    "url = 'https://raw.githubusercontent.com/freeCodeCamp/cdn/main/build/math-cert-tests/math-code-test-a.py'\n",
    "r = requests.get(url)\n",
    "\n",
    "# Save the library in alocal working directory\n",
    "with open('math_code_test_a.py', 'w') as f:\n",
    "    f.write(r.text)\n",
    "    \n",
    "# How you can import the library\n",
    "import math_code_test_a as test\n",
    "\n",
    "# this will tell you if the code works\n",
    "test.step19()"
   ]
  },
  {
   "cell_type": "markdown",
   "metadata": {},
   "source": [
    "# Step 1 - Add"
   ]
  },
  {
   "cell_type": "markdown",
   "metadata": {},
   "source": [
    "To help you get familiar with Colab notebooks, you will start with the basics. Python uses +, -, *, and / for the four math operations: add, subtract, multiply, and divide. When you add two numbers, the result is the sum. Use addition within the print statement to get the sum of a and b. To run the code, you can hit \"shift\" and \"enter\" or you can click the run button (the triangle inside a circle)."
   ]
  },
  {
   "cell_type": "code",
   "execution_count": null,
   "metadata": {},
   "outputs": [],
   "source": [
    "a = 1\n",
    "b = 2\n",
    "\n",
    "# Change the next line to print the sum of a and b\n",
    "print(a+b)\n",
    "\n",
    "# Only change code above this line\n",
    "import math_code_test_a as test\n",
    "test.step01(In[-1].split('# Only change code above this line')[0])\n"
   ]
  },
  {
   "cell_type": "markdown",
   "metadata": {},
   "source": [
    "# Step 2 - Subtract"
   ]
  },
  {
   "cell_type": "markdown",
   "metadata": {},
   "source": [
    "When you subtract two numbers, the result is the difference. Use subtraction in the print statement to get the difference between c and d. Remember to use \"shift\" and \"enter\" to run the code."
   ]
  },
  {
   "cell_type": "code",
   "execution_count": null,
   "metadata": {},
   "outputs": [],
   "source": [
    "c = 7\n",
    "d = 3\n",
    "\n",
    "# Change the next line to print the positive difference between c and d\n",
    "print(c)\n",
    "\n",
    "# Only change the code above this line\n",
    "import math_code_test_a as test\n",
    "test.step02(In[-1].split('# Only change code above this line')[0])"
   ]
  },
  {
   "cell_type": "markdown",
   "metadata": {},
   "source": [
    "# Step 3 - Multiply"
   ]
  },
  {
   "cell_type": "markdown",
   "metadata": {},
   "source": [
    "When you multiply numbers, the result is the product. Use multiplication within the print statement to get the product of e and f."
   ]
  },
  {
   "cell_type": "code",
   "execution_count": null,
   "metadata": {},
   "outputs": [],
   "source": [
    "e = 2\n",
    "f = 4\n",
    "\n",
    "# Change the next line to print the product of e and f\n",
    "print(e*f)\n",
    "\n",
    "\n",
    "# Only change code above this line\n",
    "import math_code_test_a as test\n",
    "test.step03(In[-1].split('# Only change code above this line')[0])"
   ]
  },
  {
   "cell_type": "markdown",
   "metadata": {},
   "source": [
    "# Step 4 - Divide"
   ]
  },
  {
   "cell_type": "markdown",
   "metadata": {},
   "source": [
    "When you divide two numbers, the result is the quotient. Use division within the print statement to get the quotient of q and h."
   ]
  },
  {
   "cell_type": "code",
   "execution_count": null,
   "metadata": {},
   "outputs": [],
   "source": [
    "g = 8\n",
    "h = 4\n",
    "\n",
    "# Change the next line to print the product of e and f\n",
    "print(q/h)\n",
    "\n",
    "\n",
    "# Only change code above this line\n",
    "import math_code_test_a as test\n",
    "test.step04(In[-1].split('# Only change code above this line')[0])"
   ]
  },
  {
   "cell_type": "markdown",
   "metadata": {},
   "source": [
    "# Step 5 - Cast Input"
   ]
  },
  {
   "cell_type": "markdown",
   "metadata": {},
   "source": [
    "User input comes in as a string, so you need to cast it as an integer or a float before doing any math. The code below asks for input and uses int() to cast it as an integer. Follow the model and cast the second variable as an integer. Then run the code and test it. (Remember to hit \"enter\" after you type each integer in the box.)"
   ]
  },
  {
   "cell_type": "code",
   "execution_count": null,
   "metadata": {},
   "outputs": [],
   "source": [
    "strA = input('Enter a positive integer: ')\n",
    "intA = int(strA)\n",
    "\n",
    "strB = input('Enter another positive integer: ')\n",
    "\n",
    "# Change the next line but keep the variable name:\n",
    "intB = int(strB)\n",
    "\n",
    "\n",
    "print(intA+intB)\n",
    "\n",
    "\n",
    "# Only change code above this line\n",
    "import math_code_test_a as test\n",
    "test.step05(In[-1].split('# Only change code above this line')[0])"
   ]
  },
  {
   "cell_type": "markdown",
   "metadata": {},
   "source": [
    "# Step 6 - Input and cast on the same line"
   ]
  },
  {
   "cell_type": "markdown",
   "metadata": {},
   "source": [
    "You can prompt for input and cast that input on the same line. Notice the nested functions in the first line of the code. Follow that model to prompt for input and cast that input as an integer on the same line."
   ]
  },
  {
   "cell_type": "code",
   "execution_count": null,
   "metadata": {},
   "outputs": [],
   "source": [
    "intA = int(input('Enter an integer: '))\n",
    "\n",
    "# Change the next line but keep the variable name:\n",
    "intB = int(input('Enter an integer: '))\n",
    "\n",
    "print(intA+intB)\n",
    "\n",
    "\n",
    "# Only change the code above this line\n",
    "import math_code_test_a as test\n",
    "test.step06(In[-1].split('# Only change code above this line')[0])"
   ]
  },
  {
   "cell_type": "markdown",
   "metadata": {},
   "source": [
    "# Step 7 - Float numbers"
   ]
  },
  {
   "cell_type": "markdown",
   "metadata": {},
   "source": [
    "A float number allows decimal places. When prompting for a number as input, casting that as a float is usually the best choice. Follow the model below to prompt for input and cast that input as a float on the same line."
   ]
  },
  {
   "cell_type": "code",
   "execution_count": null,
   "metadata": {},
   "outputs": [],
   "source": [
    "a = float(input('Enter a number: '))\n",
    "\n",
    "# Change the next line but keep the variable name:\n",
    "b = float(input('Enter a number: ')) \n",
    "\n",
    "print(a/b)\n",
    "\n",
    "# Only change code above this line\n",
    "import math_code_test_a as test\n",
    "test.step07(In[-1].split('# Only change code above this line')[0])"
   ]
  },
  {
   "cell_type": "markdown",
   "metadata": {},
   "source": [
    "# Step 8 - Order of Operations"
   ]
  },
  {
   "cell_type": "markdown",
   "metadata": {},
   "source": [
    "You may have heard of the <b>order of operations</b> and the acronym <b>PEMDAS</b>, which reminds you of the correct order. This means that you can do what is in <b>Parentheses</b> first, then simplify <b>Exponents</b>. You then do all of the <b>Multiplication</b> and <b>Division</b> together, as long as you work from left to right and simplify the one that comes up next. Python knows the order of operations. In the following code, Python will calculate the actual_answer correctly. Notice the use of ** to indicate an exponent. Do the arithmetic in your head (no writing code) and change the your_answer variable, then run the code to see if your_answer matches the actual_answer."
   ]
  },
  {
   "cell_type": "code",
   "execution_count": null,
   "metadata": {},
   "outputs": [],
   "source": [
    "actual_answer = (1+4*2-14/2)**3\n",
    "\n",
    "# Put your answer on the following line:\n",
    "your_answer = 8\n",
    "\n",
    "print('Actual answer is ', actual_answer)\n",
    "print('Your answer is ', your_answer)\n",
    "\n",
    "# Only change code above this line\n",
    "import math_code_test_a as test\n",
    "test.step08(In[-1].split('# Only change code above this line')[0])"
   ]
  },
  {
   "cell_type": "markdown",
   "metadata": {},
   "source": [
    "# Step 9 - Remainder and Modulus"
   ]
  },
  {
   "cell_type": "markdown",
   "metadata": {},
   "source": [
    "A remainder is what is left over when you try to divide two numbers and it doesn't divide evenly. The remainder of 10/4 is 2 because 4 goes into 10 two whole times, with 2 left over. The modulus (%) operator will output the remainder, so 10 % 4 will return 2. Use the modulus operator to find the remainder of a divided by b:"
   ]
  },
  {
   "cell_type": "code",
   "execution_count": null,
   "metadata": {},
   "outputs": [],
   "source": [
    "a = 14\n",
    "b = 6\n",
    "\n",
    "# Change this line\n",
    "print(a%b)\n",
    "\n",
    "\n",
    "# Only change code above this line\n",
    "import math_code_test_a as test\n",
    "test.step09(In[-1].split('# Only change code above this line')[0])"
   ]
  },
  {
   "cell_type": "markdown",
   "metadata": {},
   "source": [
    "# Step 10 - Modulus and Factors"
   ]
  },
  {
   "cell_type": "markdown",
   "metadata": {},
   "source": [
    "Use an if statement with the modulus operator to find out if one number is a factor of another. For example, to see if 5 is a factor of 20, you can test if 20 % 5 == 0. If there's no remainder, the second number is a factor of the first. Remember that Python comparisons use == to test values. Remember that the if statement ends in a colon(:) and the resulting block is indented four spaces. Finish the code below to print \"true\" if test_factor is a factor of number and print \"false\" if it is not."
   ]
  },
  {
   "cell_type": "code",
   "execution_count": null,
   "metadata": {},
   "outputs": [],
   "source": [
    "number = int(input('Enter an integer: '))\n",
    "test_factor = int(input('Enter an integer to see if it is a factor: '))\n",
    "\n",
    "# Change the next line to test the factor:\n",
    "if number%test_factor:\n",
    "    print('true')\n",
    "else:\n",
    "    print('false')\n",
    "    \n",
    "    \n",
    "# Only change code above this line\n",
    "import math_code_test_a as test\n",
    "test.step10(In[-1].split('# Only change code above this line')[0])"
   ]
  },
  {
   "cell_type": "markdown",
   "metadata": {},
   "source": [
    "# Step 11 - Finding Factors"
   ]
  },
  {
   "cell_type": "markdown",
   "metadata": {},
   "source": [
    "Now you will find all of the factors of a number. This code has a loop with a variable, test_factor, that iterates through a defined range. Remember that the first line defining the loop ends in a colon (:) and each line in the loop requires a four-space indent. Change the if statement to find all the factors of number."
   ]
  },
  {
   "cell_type": "code",
   "execution_count": null,
   "metadata": {},
   "outputs": [],
   "source": [
    "number = int(input('Enter an integer: '))\n",
    "\n",
    "# Only change the if statement:\n",
    "for test_factor in range(1, number+1):\n",
    "    if number%test_factor==0:\n",
    "        print(test_factor)\n",
    "        \n",
    "        \n",
    "# Only change code above this line\n",
    "import math_code_test_a as test\n",
    "test.step11(In[-1].split('# Only change code above this line')[0])"
   ]
  },
  {
   "cell_type": "markdown",
   "metadata": {},
   "source": [
    "# Step 12 - Prime Numbers"
   ]
  },
  {
   "cell_type": "markdown",
   "metadata": {},
   "source": [
    "A prime number is a number whose only factors are 1 and itself. The number 5 is prime because its only factors are 1 and 5, but the 6 is not prime because it has 1,2,3, and 6 as factors. Any number that is not a prime is a composite. For each iteration in the loop, test_number will be a possible fact. Change the if statement so that the code prints \"composite\" if number is not prime."
   ]
  },
  {
   "cell_type": "code",
   "execution_count": null,
   "metadata": {},
   "outputs": [],
   "source": [
    "number = int(input('Enter a positive integer: '))\n",
    "\n",
    "prime_or_comp = \"prime\"\n",
    "\n",
    "for test_number in range(2,number):\n",
    "    # Change the if statement to test one factor here:\n",
    "    if number%test_factor==0:\n",
    "        prime_or_comp = \"composite\"\n",
    "        \n",
    "print(prime_or_comp)\n",
    "\n",
    "# Only change code above this line\n",
    "import math_code_test_a as test\n",
    "test.step12(In[-1].split('# Only change code above this line')[0])"
   ]
  },
  {
   "cell_type": "markdown",
   "metadata": {},
   "source": [
    "# Step 13 - Reciprocals"
   ]
  },
  {
   "cell_type": "markdown",
   "metadata": {},
   "source": [
    "A reciprocal is a number \"flipped\". The reciprocal of $\\frac{2}{3}$ is $\\frac{3}{2}$ and the reciprocal of 5 is $\\frac{1}{3}$ because whole numbers have denominators of 1. You can multiply a number by its reciprocal to get 1, so 5*$\\frac{1}{3}$= 1 and $\\frac{2}{3}$*$\\frac{3}{2}$=1. To get the reciprocal of a number, take 1 divide by that 1 divided by that number. Trying to get the reciprocal of zero will lead to a \"divide by zero\" error. Use a print statement to output the reciprocal of n as a decimal"
   ]
  },
  {
   "cell_type": "code",
   "execution_count": null,
   "metadata": {},
   "outputs": [],
   "source": [
    "n = float(input('Enter a number: '))\n",
    "\n",
    "# Whrite your code here\n",
    "print(1/n)\n",
    "\n",
    "# Only change code above this line\n",
    "import math_code_test_a as test\n",
    "test.step13(In[-1].split('# Only change code above this line')[0])"
   ]
  },
  {
   "cell_type": "markdown",
   "metadata": {},
   "source": [
    "# Step 14 - Splitting input"
   ]
  },
  {
   "cell_type": "markdown",
   "metadata": {},
   "source": [
    "The code below asks for two integers, separated by a comma, then splits the input at the comma. Notice the input remains a string, then the split() function creates an array with two elements. Finish the following code to cast the two variables a and b as float numbers, then divide the two numbers and print the result."
   ]
  },
  {
   "cell_type": "code",
   "execution_count": null,
   "metadata": {},
   "outputs": [],
   "source": [
    "nums = input('Enter two numbers, separated by a comma: ')\n",
    "sp = nums.split(\",\")\n",
    "\n",
    "# Use the next line as a model:\n",
    "a = float(sp[0])\n",
    "\n",
    "# Change the next line to cast the number as a float:\n",
    "b = float(sp[1])\n",
    "\n",
    "# Change the print statement:\n",
    "print(a/b)\n",
    "\n",
    "# Only change the code above this line\n",
    "import math_code_test_a as test\n",
    "test.step14(In[-1].split('# Only change code above this line')[0])"
   ]
  },
  {
   "cell_type": "markdown",
   "metadata": {},
   "source": [
    "# Step 15 - Square Numbers"
   ]
  },
  {
   "cell_type": "markdown",
   "metadata": {},
   "source": [
    "One factor mulitplied by itself will produce a square number, so a number raised to an exponent of 2 is that number squared (like calculating the area of a square). Python uses ** to indicate exponents. Complete the code to print the square of the input."
   ]
  },
  {
   "cell_type": "code",
   "execution_count": null,
   "metadata": {},
   "outputs": [],
   "source": [
    "n = float(input('Enter a number to square: '))\n",
    "\n",
    "# Change this line of code:\n",
    "print(n**2)\n",
    "\n",
    "# Only change code above this line\n",
    "import math_code_test_a as test\n",
    "test.step15(In[-1].split('# Only change code above this line')[0])"
   ]
  },
  {
   "cell_type": "markdown",
   "metadata": {},
   "source": [
    "# Step 16 - Square Root Function"
   ]
  },
  {
   "cell_type": "markdown",
   "metadata": {},
   "source": [
    "You can find the square root of a number with the sqrt() function. To use this function, you need to import the math library. This library enables you to use many function, as you will see in later steps. To get the square root of x, you would write math.sqrt(x). Complete the code to print the square root of a number."
   ]
  },
  {
   "cell_type": "code",
   "execution_count": null,
   "metadata": {},
   "outputs": [],
   "source": [
    "import math\n",
    "\n",
    "n = float(input('Enter a number to find the square root: '))\n",
    "\n",
    "# change the next line of code:\n",
    "print(math.sqrt(n))\n",
    "\n",
    "# Only change code above this line\n",
    "import math_code_test_a as test\n",
    "test.step16(In[-1].split('# Only change code above this line')[0])"
   ]
  },
  {
   "cell_type": "markdown",
   "metadata": {},
   "source": [
    "# Step 17 - Floor Function"
   ]
  },
  {
   "cell_type": "markdown",
   "metadata": {},
   "source": [
    "The floor() function drops any decimals and sometimes is called the integer part of a number. Complete the code to print the floor of a number. Notice you import math and use math.floor(n)"
   ]
  },
  {
   "cell_type": "code",
   "execution_count": null,
   "metadata": {},
   "outputs": [],
   "source": [
    "import math\n",
    "\n",
    "n = float(input('Enter a number with decimal pieces: '))\n",
    "\n",
    "# Change the next line of code:\n",
    "print(math.floor(n))\n",
    "\n",
    "# Only change code above this line\n",
    "import math_code_test_a as test\n",
    "test.step17(In[-1].split('# Only change code above this line')[0])"
   ]
  },
  {
   "cell_type": "markdown",
   "metadata": {},
   "source": [
    "# Step 18 - Finding Square Factors"
   ]
  },
  {
   "cell_type": "markdown",
   "metadata": {},
   "source": [
    "This step will combine a few things you have already done. Remember that a square number is an integer that is the result of multiplying another integer by itself. Just as you created a loop to find factors of an integer, here you will find the greatest factor that is a perfect square. For example, 2 is a facor of 16, but 2 is not a square number, while 4 is a factor and it is a square number, but it is not the greatest square factor. The greatest square factor of 16 is 16. The greatest square factor of 32 is 16. Complete if statement in the loop to find the greatest square factor of a number."
   ]
  },
  {
   "cell_type": "code",
   "execution_count": null,
   "metadata": {},
   "outputs": [],
   "source": [
    "import math\n",
    "\n",
    "n = int(input('Enter an integer to find the greatest square factor: '))\n",
    "\n",
    "max_factor = 1\n",
    "upper_limit = math.floor(math.sqrt(n)) + 1\n",
    "\n",
    "# Change one line in this loop:\n",
    "for maybe_factor in range(1,upper_limit):\n",
    "    if n % (maybe_factor**2) == 0:\n",
    "        max_factor = maybe_factor\n",
    "        \n",
    "# Keep this print statement:\n",
    "print(max_factor**2)\n",
    "\n",
    "\n",
    "# Only change code above this line\n",
    "import math_code_test_a as test\n",
    "test.step18(In[-1].split('# Only change code above this line')[0])"
   ]
  },
  {
   "cell_type": "markdown",
   "metadata": {},
   "source": [
    "# Step 19 - Dividing out Factors"
   ]
  },
  {
   "cell_type": "markdown",
   "metadata": {},
   "source": [
    "Building upon your code from the previous step, this code will divide out the greatest square factor of a number. You don't need to change anything; just run the code below a few times, inputting different numbers each time."
   ]
  },
  {
   "cell_type": "code",
   "execution_count": null,
   "metadata": {},
   "outputs": [],
   "source": [
    "import math\n",
    "\n",
    "n = int(input('Enter an integer to factor: '))\n",
    "upper_limit = math.floor(math.sqrt(n)) + 1\n",
    "square_root = 1\n",
    "max_factor = 1\n",
    "other_factor = 1\n",
    "\n",
    "# Notice what the loop is doing here\n",
    "for maybe_factor in range(1, upper_limit):\n",
    "    # Check for square factors\n",
    "    if n % (maybe_factor**2) == 0:\n",
    "        # Find the greatest square factor\n",
    "        max_factor = maybe_factor**2\n",
    "        \n",
    "# Divide out the greatest square factor\n",
    "other_factor = n/max_factor\n",
    "\n",
    "# Display the results\n",
    "print(\"\", n, \" = \", max_factor, \" * \", other_factor)\n",
    "\n",
    "# Only change code above this line\n",
    "import math_code_test_a as test\n",
    "test.step19()"
   ]
  },
  {
   "cell_type": "markdown",
   "metadata": {},
   "source": [
    "# Step 20 - Factoring Square Roots"
   ]
  },
  {
   "cell_type": "markdown",
   "metadata": {},
   "source": [
    "The last four steps prepared you for this. To factor a square root, you want to divide out any perfect square factors. For example: \n",
    "$\\sqrt{12}$ = $\\sqrt{4 * 3}$ = $2\\sqrt{3}$ <br>\n",
    "Because 4 is a number, the square root of 4 is now outside the radical. You will import sympy and symbols to use the radical $(\\sqrt{x})$ in the output. Use the code from the previous step (without changing much). Your goal is to ask for a number and output the factored square root. The radical formatting (using sympy and symbols) is already done for you."
   ]
  },
  {
   "cell_type": "code",
   "execution_count": null,
   "metadata": {},
   "outputs": [],
   "source": [
    "import math\n",
    "import sympy\n",
    "from sympy import symbols\n",
    "\n",
    "n = int(input('Without the radical, enter a square root to factor: '))\n",
    "\n",
    "# Use these variables\n",
    "upper_limit = math.floor(math.sqrt(n)) + 1\n",
    "max_factor = 1\n",
    "other_factor = 1\n",
    "square_root = 1\n",
    "\n",
    "# Notice what the loop is doing here\n",
    "for maybe_factor in range(1, upper_limit):\n",
    "    if n % (maybe_factor**2) == 0:\n",
    "        max_factor = maybe_factor**2\n",
    "        \n",
    "# Divide out the greatest square factor\n",
    "other_factor = n/max_factor\n",
    "\n",
    "# Output - keep this:\n",
    "square_root = int(math.sqrt(max_factor))\n",
    "other_factor = int(other_factor)\n",
    "output = square_root*sympy.sqrt(other_factor)\n",
    "\n",
    "# Only change code above this line\n",
    "import math_code_test_a as test\n",
    "test.step20()\n",
    "output"
   ]
  },
  {
   "cell_type": "markdown",
   "metadata": {},
   "source": [
    "# Step 21 - Rounding"
   ]
  },
  {
   "cell_type": "markdown",
   "metadata": {},
   "source": [
    "If you only want a certain number of decimal places, use the round() function. This takes two arguments: the number to round and the number of decimal places, so round(2.468, 2) will return 2.47. To round a large number instead of a decimal number, make the second argument negative, so round(2345, -3) will return 2000. Finish the code below so that it prints the first number rounded to the nearest million (six zeros) and the second number rounded to 3 decimal places."
   ]
  },
  {
   "cell_type": "code",
   "execution_count": null,
   "metadata": {},
   "outputs": [],
   "source": [
    "a = 14588132\n",
    "b = 0.006538298336\n",
    "\n",
    "# write your code here\n",
    "print(round(a, -6))\n",
    "print(round(b, 3))\n",
    "\n",
    "# Only change code above this line\n",
    "import math_code_test_a as test\n",
    "test.step21(In[-1].split('# Only change code above this line')[0])"
   ]
  },
  {
   "cell_type": "markdown",
   "metadata": {},
   "source": [
    "# Step 22 - Fractions, Decimals, Percents"
   ]
  },
  {
   "cell_type": "markdown",
   "metadata": {},
   "source": [
    "To convert a decimal number to a fraction, let x = the number of decimal places. The basic function is the number (without the decimal point) over 10**x. Example: 0.2 = $\\frac{2}{10}$ and 0.34 = $\\frac{34}{100}$ and 0.567 = $\\frac{567}{1000}$. In some cases, you may be able to reduce that fraction. Because \"percent\" means \"out of 100\" the percent refers to the first two decimal places. Complete the code to ask for a decimal input, then print the fraction and the percent. Hint: The exponent variable gives you the number of decimal places."
   ]
  },
  {
   "cell_type": "code",
   "execution_count": null,
   "metadata": {},
   "outputs": [],
   "source": [
    "import math\n",
    "\n",
    "digits = input(\"Enter a decimal number to cinvert: \")\n",
    "exponent = int(len(digits)) -1\n",
    "n = float(digits)\n",
    "\n",
    "# Change the values of these three variables\n",
    "numerator = n*10**exponent\n",
    "denominator = 10**exponent\n",
    "percent = n*100\n",
    "\n",
    "# Output - keep this\n",
    "print(\"The decimal is \", n)\n",
    "print(\"The fraction is \", numerator, \"/\", denominator)\n",
    "print(\"THe percent is \", percent, \" %\")\n",
    "\n",
    "\n",
    "# Only change code above this line\n",
    "import math_code_test_a as test\n",
    "test.step22(n,numerator,denominator,percent,exponent)"
   ]
  },
  {
   "cell_type": "markdown",
   "metadata": {},
   "source": [
    "# Step 23 - Defining a Function"
   ]
  },
  {
   "cell_type": "markdown",
   "metadata": {},
   "source": [
    "To execute a block of code with one command, define a function with the def command and the name of the function. Notice everything in the function is indented 4 spaces. Run the following code to see an example. Then change the function name to fun() and also change the name where you call the function. Run the code again."
   ]
  },
  {
   "cell_type": "code",
   "execution_count": null,
   "metadata": {},
   "outputs": [],
   "source": [
    "# Define a function\n",
    "def fun():\n",
    "    print(\"This is in the function\")\n",
    "    \n",
    "# Other code\n",
    "print(\"This is outside the function\")\n",
    "\n",
    "# Call the function\n",
    "fun()\n",
    "\n",
    "print(\"Back outside the function\")\n",
    "\n",
    "# Only change code above this line\n",
    "import math_code_test_a as test\n",
    "test.step23(In[-1].split('# Only change code above this line')[0])"
   ]
  },
  {
   "cell_type": "markdown",
   "metadata": {},
   "source": [
    "# Step 24 - Function with input"
   ]
  },
  {
   "cell_type": "markdown",
   "metadata": {},
   "source": [
    "A function can take input (called an \"argument\") and do something with that input. Use def to define the function, and include a variable in the parenthesis to represent the argument. Indent everything that is a part of the function. When calling the function, pass the argument to it in the parenthesis. Run the following code to see this example. Then change the input() variable name to nombre and also change that variable name in the argument when you call the function. Run the code again."
   ]
  },
  {
   "cell_type": "code",
   "execution_count": null,
   "metadata": {},
   "outputs": [],
   "source": [
    "# Define a function\n",
    "def greeting(name):\n",
    "    print(\"Hello \", name)\n",
    "    \n",
    "nombre = input(\"WHat is your name? \\n\")\n",
    "\n",
    "# Call the function\n",
    "greeting(nombre)\n",
    "\n",
    "# Only change code above this line\n",
    "import math_code_test_a as test\n",
    "test.step24(In[-1].split('# Only change code above this line')[0])"
   ]
  },
  {
   "cell_type": "markdown",
   "metadata": {},
   "source": [
    "# Step 25 - Function with Two Inputs"
   ]
  },
  {
   "cell_type": "markdown",
   "metadata": {},
   "source": [
    "To pass more than one argument to a function, separate the arguments with commas. Run the code to see the example, then add a third argument to the function and run it again. The third variable is already in the code. Change three lines of code to use that variable. (1) the argument when you call the function, (2) the argument when you define the function, (3) the sum line within in the function definition."
   ]
  },
  {
   "cell_type": "code",
   "execution_count": null,
   "metadata": {},
   "outputs": [],
   "source": [
    "# DEfine function\n",
    "def add(a,b,c):\n",
    "    sum = a+b+c\n",
    "    print(\"The sum is \", sum)\n",
    "    \n",
    "first = float(input(\"Enter a number: \\n\"))\n",
    "second = float(input(\"Enter another number: \\n\"))\n",
    "third = 3\n",
    "\n",
    "# Call the function\n",
    "add(first,second,third)\n",
    "\n",
    "# Only change code above this line\n",
    "import math_code_test_a as test\n",
    "test.step25(In[-1].split('# Only change code above this line')[0])"
   ]
  },
  {
   "cell_type": "markdown",
   "metadata": {},
   "source": [
    "# Step 26 - Function with Return Value"
   ]
  },
  {
   "cell_type": "markdown",
   "metadata": {},
   "source": [
    "Instead of including a print() statement within the function, the function can return a value right where you call it. To make the function return a value, use the return statement. Run the following code to see an example, then change the return statement to multiply by 3 instead of 2 and run the code again."
   ]
  },
  {
   "cell_type": "code",
   "execution_count": null,
   "metadata": {},
   "outputs": [],
   "source": [
    "# define the function\n",
    "def multiplied(number):\n",
    "    return number*2\n",
    "\n",
    "a = float(input(\"Enter a number: \\n\"))\n",
    "print(\"Your number multiplied = \", multiplied(a))\n",
    "\n",
    "\n",
    "# Only change code above this line\n",
    "import math_code_test_a as test\n",
    "test.step26(In[-1].split('# Only change code above this line')[0])"
   ]
  },
  {
   "cell_type": "markdown",
   "metadata": {},
   "source": [
    "# Step 27 - Solve for X"
   ]
  },
  {
   "cell_type": "markdown",
   "metadata": {},
   "source": [
    "In Algebra, x often refers to the unknown number in an equation. To find the value of x we use algebra rules to get to x = [some number]. SymPy is a Python library to work with symbolic math. The following code works to solve an equation set equal to zero. Run the code and remember to use Python syntax to enter an equation (with \"x\" as the variable) and see the solution."
   ]
  },
  {
   "cell_type": "code",
   "execution_count": 3,
   "metadata": {},
   "outputs": [
    {
     "name": "stdout",
     "output_type": "stream",
     "text": [
      "x =  4\n"
     ]
    }
   ],
   "source": [
    "import sympy\n",
    "from sympy import symbols\n",
    "from sympy.solvers import solve\n",
    "\n",
    "x = symbols('x')\n",
    "\n",
    "eq = input('Enter an equation to solve for x: 0 = ')\n",
    "print(\"x = \", solve(eq,x)[0])\n",
    "\n",
    "# Only change code above this line\n",
    "import math_code_test_a as test\n",
    "test.step27(In[-1].split('# Only change code above this line')[0])"
   ]
  }
 ],
 "metadata": {
  "kernelspec": {
   "display_name": "base",
   "language": "python",
   "name": "python3"
  },
  "language_info": {
   "codemirror_mode": {
    "name": "ipython",
    "version": 3
   },
   "file_extension": ".py",
   "mimetype": "text/x-python",
   "name": "python",
   "nbconvert_exporter": "python",
   "pygments_lexer": "ipython3",
   "version": "3.12.4"
  }
 },
 "nbformat": 4,
 "nbformat_minor": 2
}
