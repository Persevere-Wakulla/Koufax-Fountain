{
 "cells": [
  {
   "cell_type": "markdown",
   "metadata": {},
   "source": [
    "Set up a proportion:\n",
    "n1/d1 = n2/d2"
   ]
  },
  {
   "cell_type": "code",
   "execution_count": 3,
   "metadata": {},
   "outputs": [
    {
     "name": "stdout",
     "output_type": "stream",
     "text": [
      "d2 =  8.0\n"
     ]
    }
   ],
   "source": [
    "# Put a zero in for the unknown value\n",
    "n1 = 1\n",
    "d1 = 2\n",
    "n2 = 4\n",
    "d2 = 0\n",
    "\n",
    "if n2==0:\n",
    "    answer = d2 * n1 / d1\n",
    "    print(\"n2 = \", answer)\n",
    "    \n",
    "if d2==0:\n",
    "    answer = n2 * d1 / n1\n",
    "    print(\"d2 = \", answer)"
   ]
  },
  {
   "cell_type": "code",
   "execution_count": null,
   "metadata": {},
   "outputs": [],
   "source": []
  }
 ],
 "metadata": {
  "kernelspec": {
   "display_name": "base",
   "language": "python",
   "name": "python3"
  },
  "language_info": {
   "codemirror_mode": {
    "name": "ipython",
    "version": 3
   },
   "file_extension": ".py",
   "mimetype": "text/x-python",
   "name": "python",
   "nbconvert_exporter": "python",
   "pygments_lexer": "ipython3",
   "version": "3.12.4"
  }
 },
 "nbformat": 4,
 "nbformat_minor": 2
}
