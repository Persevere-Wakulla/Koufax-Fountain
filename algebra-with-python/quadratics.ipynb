{
 "cells": [
  {
   "cell_type": "markdown",
   "metadata": {},
   "source": [
    "Solve a quadratic equation"
   ]
  },
  {
   "cell_type": "code",
   "execution_count": 7,
   "metadata": {},
   "outputs": [
    {
     "name": "stdout",
     "output_type": "stream",
     "text": [
      "y =  1 x**2 +  5 x +  6\n",
      "Vertex: ( -2.5 , -0.25 )\n",
      "Roots: x =  -2.0  and x =  -3.0\n"
     ]
    }
   ],
   "source": [
    "import math\n",
    "# Coefficient Values\n",
    "a = 1\n",
    "b = 5\n",
    "c = 6\n",
    "\n",
    "print(\"y = \", a, \"x**2 + \", b, \"x + \", c)\n",
    "\n",
    "# Vertex\n",
    "vx = -b/(2*a)\n",
    "vy = a*(vx**2) + b*vx + c\n",
    "print(\"Vertex: (\", vx,\",\",vy,\")\")\n",
    "\n",
    "# Roots\n",
    "d = b**2- 4*a*c\n",
    "if d>=0:\n",
    "    root_1 = (-b + math.sqrt(d))/(2*a)\n",
    "    root_2 = (-b - math.sqrt(d))/(2*a)\n",
    "    print(\"Roots: x = \", root_1, \" and x = \",root_2)\n",
    "else:\n",
    "    print(\"No real roots\")"
   ]
  },
  {
   "cell_type": "markdown",
   "metadata": {},
   "source": [
    "Graph a quadratic function"
   ]
  },
  {
   "cell_type": "code",
   "execution_count": 2,
   "metadata": {},
   "outputs": [
    {
     "name": "stdout",
     "output_type": "stream",
     "text": [
      "y =  1 x**2 +  5 x +  6\n",
      "Vertex: ( -2.5 , -0.25 )\n",
      "Roots: x =  -2.0  and x =  -3.0\n"
     ]
    },
    {
     "data": {
      "image/png": "[encoded data removed]",
      "text/plain": [
       "<Figure size 640x480 with 1 Axes>"
      ]
     },
     "metadata": {},
     "output_type": "display_data"
    }
   ],
   "source": [
    "import matplotlib.pyplot as plt\n",
    "import numpy as np\n",
    "import math\n",
    "\n",
    "a = 1\n",
    "b = 5\n",
    "c = 6\n",
    "\n",
    "print(\"y = \", a, \"x**2 + \", b, \"x + \", c)\n",
    "\n",
    "# Vertex\n",
    "vx = -b/(2*a)\n",
    "vy = a*(vx**2) + b*vx + c\n",
    "print(\"Vertex: (\",vx,\",\",vy,\")\")\n",
    "\n",
    "xmin = -10\n",
    "xmax = 10\n",
    "ymin = -10\n",
    "ymax = 10\n",
    "points = 10*(xmax-xmin)\n",
    "x = np.linspace(xmin,xmax,points)\n",
    "\n",
    "fig, ax = plt.subplots()\n",
    "plt.axis((xmin,xmax,ymin,ymax)) #window size\n",
    "plt.plot([xmin,xmax],[0,0],'b') #blue x axis\n",
    "plt.plot([0,0],[ymin,ymax],'b') #blue y axis\n",
    "\n",
    "# Graph the parabola\n",
    "y1 = a*x**2 + b*x + c\n",
    "plt.plot(x, y1)\n",
    "\n",
    "# Plot the vertex point\n",
    "plt.plot([vx],[vy],'ro')\n",
    "\n",
    "# Find and plot the roots\n",
    "d = b**2 - 4*a*c\n",
    "if d>=0:\n",
    "    root_1 = (-b + math.sqrt(d))/(2*a)\n",
    "    root_2 = (-b - math.sqrt(d))/(2*a)\n",
    "    plt.plot([root_1, root_2], [0,0], 'go')\n",
    "    print(\"Roots: x = \", root_1, \" and x = \", root_2)\n",
    "    \n",
    "plt.show()"
   ]
  },
  {
   "cell_type": "markdown",
   "metadata": {},
   "source": [
    "Sliders to show how a,b, and c affect the graph"
   ]
  },
  {
   "cell_type": "code",
   "execution_count": 7,
   "metadata": {},
   "outputs": [
    {
     "data": {
      "application/vnd.jupyter.widget-view+json": {
       "model_id": "23cc2c1f845742cc89e8623381cf2c48",
       "version_major": 2,
       "version_minor": 0
      },
      "text/plain": [
       "interactive(children=(IntSlider(value=5, description='a', max=9, min=1), IntSlider(value=0, description='b', m…"
      ]
     },
     "metadata": {},
     "output_type": "display_data"
    }
   ],
   "source": [
    "%matplotlib inline\n",
    "from ipywidgets import interactive\n",
    "import matplotlib.pyplot as plt\n",
    "import numpy as np\n",
    "import math\n",
    "\n",
    "# All graphing happens in this function\n",
    "def f(a,b,c):\n",
    "    xmin = -10\n",
    "    xmax = 10\n",
    "    ymin = -10\n",
    "    ymax = 10\n",
    "    points = 10*(xmax-xmin)\n",
    "    x = np.linspace(xmin,xmax,points)\n",
    "    \n",
    "    plt.axis([xmin,xmax,ymin,ymax]) #window size\n",
    "    plt.plot([xmin,xmax],[0,0],'b') # x axis\n",
    "    plt.plot([0,0],[ymin,ymax],'b') # y axis\n",
    "    \n",
    "    # Parabola\n",
    "    y1 = a*x**2 + b*x + c\n",
    "    plt.plot(x, y1)\n",
    "    \n",
    "    # Vertex\n",
    "    vx = -b/(2*a)\n",
    "    vy = a*(vx**2) + b*vx + c\n",
    "    plt.plot([vx],[vy],'ro')\n",
    "    \n",
    "    # Roots\n",
    "    d = b**2 - 4*a*c\n",
    "    if d>=0:\n",
    "        root_1 = (-b + math.sqrt(d))/(2*a)\n",
    "        root_2 = (-b - math.sqrt(d))/(2*a)\n",
    "        plt.plot([root_1, root_2],[0,0], 'go')\n",
    "        \n",
    "    # Set the equation as the title\n",
    "    sa = str(a)\n",
    "    sb = str(b)\n",
    "    sc = str(c)\n",
    "    h1 = \"y = \", sa, \"x**2 + \", sb, \"x + \", sc\n",
    "    h2 = \"\"\n",
    "    for w in h1:\n",
    "        h2 = h2 + w\n",
    "        \n",
    "    plt.title(h2)\n",
    "    plt.show()\n",
    "    \n",
    "interactive_plot = interactive(f, a=(1,9), b=(-9,9), c=(-9,9))\n",
    "interactive_plot"
   ]
  }
 ],
 "metadata": {
  "kernelspec": {
   "display_name": "base",
   "language": "python",
   "name": "python3"
  },
  "language_info": {
   "codemirror_mode": {
    "name": "ipython",
    "version": 3
   },
   "file_extension": ".py",
   "mimetype": "text/x-python",
   "name": "python",
   "nbconvert_exporter": "python",
   "pygments_lexer": "ipython3",
   "version": "3.12.4"
  }
 },
 "nbformat": 4,
 "nbformat_minor": 2
}
