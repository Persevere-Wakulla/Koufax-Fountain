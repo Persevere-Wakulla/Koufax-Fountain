{
 "cells": [
  {
   "cell_type": "markdown",
   "metadata": {},
   "source": [
    "# Proportions\n"
   ]
  },
  {
   "cell_type": "markdown",
   "metadata": {},
   "source": [
    "Set up a proportion:<br>\n",
    "$\\frac{n1}{d1}=\\frac{n2}{d2}$\n"
   ]
  },
  {
   "cell_type": "code",
   "execution_count": null,
   "metadata": {},
   "outputs": [],
   "source": [
    "# Put a zero in for the unknown value\n",
    "n1 = 1\n",
    "d1 = 2\n",
    "n2 = 4\n",
    "d2 = 0\n",
    "\n",
    "if n2 == 0:\n",
    "    answer = d2 * n1 / d1\n",
    "    print(\"n2 = \", answer)\n",
    "\n",
    "if d2 == 0:\n",
    "    answer = n2 * d1 / n1\n",
    "    print(\"d2 = \", answer)"
   ]
  },
  {
   "cell_type": "markdown",
   "metadata": {},
   "source": [
    "# Convert decimal to fraction and percent\n"
   ]
  },
  {
   "cell_type": "code",
   "execution_count": null,
   "metadata": {},
   "outputs": [],
   "source": [
    "# Get string input, which will include a decimal point\n",
    "digits = input(\"Enter a decimal number to convert\")\n",
    "\n",
    "# Get number of decimal places as an integer\n",
    "exponent = int(len(digits)) - 1\n",
    "\n",
    "# Convert the input to a float number\n",
    "n = float(digits)\n",
    "\n",
    "# Use the exponent to get the numerator\n",
    "numerator = int(n * 10**exponent)\n",
    "\n",
    "# Use the exponent to get the denominator\n",
    "denominator = 10**exponent\n",
    "\n",
    "# percent is the first two decimal places\n",
    "percent = n * 100\n",
    "\n",
    "# Output\n",
    "print(\"The decimal is \", n)\n",
    "print(\"The fraction is \", numerator, \"/\", denominator)\n",
    "print(\"The percent is \", percent, \" %\")"
   ]
  },
  {
   "cell_type": "markdown",
   "metadata": {},
   "source": [
    "# Solve for x\n"
   ]
  },
  {
   "cell_type": "code",
   "execution_count": null,
   "metadata": {},
   "outputs": [],
   "source": [
    "import sympy\n",
    "from sympy import symbols\n",
    "from sympy.solvers import solve\n",
    "\n",
    "x = symbols(\"x\")\n",
    "\n",
    "eq = input(\"Enter equation: 0 = \")\n",
    "\n",
    "solution = solve(eq, x)\n",
    "for s in solution:\n",
    "    print(\"x = \", s)"
   ]
  },
  {
   "cell_type": "markdown",
   "metadata": {},
   "source": [
    "# Factor\n"
   ]
  },
  {
   "cell_type": "code",
   "execution_count": null,
   "metadata": {},
   "outputs": [],
   "source": [
    "import sympy\n",
    "from sympy import *\n",
    "from sympy import symbols\n",
    "\n",
    "var(\"x y\")\n",
    "\n",
    "# Equation to factor\n",
    "eq = x**3 - 2 * x**2 - 5 * x + 6\n",
    "\n",
    "sympy.factor(eq)"
   ]
  },
  {
   "cell_type": "markdown",
   "metadata": {},
   "source": [
    "# Solve for a variable\n"
   ]
  },
  {
   "cell_type": "code",
   "execution_count": null,
   "metadata": {},
   "outputs": [],
   "source": [
    "from sympy import *\n",
    "import math\n",
    "\n",
    "# Identify all variables\n",
    "var(\"a b c d x\")\n",
    "\n",
    "# Left and right sides' of the equal sign\n",
    "left = 0\n",
    "right = a * x**2 + b * x + c\n",
    "\n",
    "# Variable to solve for\n",
    "variable = x\n",
    "\n",
    "# Sympy equation left = right\n",
    "eq1 = Eq(left, right)\n",
    "\n",
    "# Sympy solve for that variable\n",
    "sol = solve(eq1, variable)\n",
    "\n",
    "# show factored results\n",
    "for s in sol:\n",
    "    print(variable, \" = \", s)"
   ]
  },
  {
   "cell_type": "markdown",
   "metadata": {},
   "source": [
    "# Slope-intercept equation from two points\n"
   ]
  },
  {
   "cell_type": "code",
   "execution_count": 23,
   "metadata": {},
   "outputs": [
    {
     "name": "stdout",
     "output_type": "stream",
     "text": [
      "y =  45.0 x +  35.0\n"
     ]
    },
    {
     "data": {
      "image/png": "[encoded data removed]",
      "text/plain": [
       "<Figure size 640x480 with 1 Axes>"
      ]
     },
     "metadata": {},
     "output_type": "display_data"
    }
   ],
   "source": [
    "import matplotlib.pyplot as plt\n",
    "import numpy as np\n",
    "\n",
    "x1 = 2\n",
    "y1 = 125\n",
    "x2 = 5\n",
    "y2 = 260\n",
    "\n",
    "# Develop the equation y = mx + b\n",
    "m = (y2 - y1) / (x2 - x1)\n",
    "b = y1 - m * x1\n",
    "print(\"y = \", m, \"x + \", b)\n",
    "\n",
    "# For the graph\n",
    "xmin = 0\n",
    "xmax = 10\n",
    "ymin = 0\n",
    "ymax = 500\n",
    "\n",
    "# For the line on the graph\n",
    "y3 = m * xmin + b\n",
    "y4 = m * xmax + b\n",
    "\n",
    "# Basic setup for the graph\n",
    "fig, ax = plt.subplots()\n",
    "plt.axis([xmin, xmax, ymin, ymax])  # window size\n",
    "plt.plot([xmin, xmax], [0, 0], \"b\")  # blue x axis\n",
    "plt.plot([0, 0], [ymin, ymax], \"b\")  # blue y axis\n",
    "\n",
    "# Add details to the graph\n",
    "ax.set_xlabel(\"x values\")\n",
    "ax.set_ylabel(\"y values\")\n",
    "ax.grid(True)\n",
    "# ax.set_xticks(np.arange(xmin, xmax, 2))\n",
    "# ax.set_yticks(np.arange(ymin, ymax, 1))\n",
    "\n",
    "# Plot the linear function as red line\n",
    "plt.plot([xmin, xmax], [y3, y4], \"r\")\n",
    "\n",
    "plt.show()"
   ]
  },
  {
   "cell_type": "markdown",
   "metadata": {},
   "source": [
    "# Graph lines and zoom in or out\n"
   ]
  },
  {
   "cell_type": "code",
   "execution_count": 20,
   "metadata": {},
   "outputs": [],
   "source": [
    "%matplotlib inline \n",
    "from ipywidgets import interactive\n",
    "import matplotlib.pyplot as plt\n",
    "import numpy as np\n",
    "\n",
    "# Define the graphing function\n",
    "def f(zoom):\n",
    "    xmin = -zoom\n",
    "    xmax = zoom\n",
    "    ymin = -zoom\n",
    "    ymax = zoom\n",
    "    points = 10*xmax-xmin\n",
    "    # x = np.linspace(xmin, xmax, points)\n",
    "    x = [0,5,10,15]\n",
    "    \n",
    "    fig,ax = plt.subplots()\n",
    "    plt.axis([xmin,xmax,ymin,ymax]) # window size\n",
    "    plt.plot([xmin,xmax],[0,0],'black') # black x axis\n",
    "    plt.plot([0,0],[ymin,ymax],'black') # black y axis\n",
    "    \n",
    "    # Line 1\n",
    "    # y1 = 3*x**2 - 4\n",
    "    y1 = [5,-10,-25,-40]\n",
    "    plt.plot(x, y1,'ro')\n",
    "    # plt.fill_between(x, y1, ymax, facecolor='green')\n",
    "    \n",
    "    # Line 2\n",
    "    # y2 = x\n",
    "    # plt.plot(x, y2)\n",
    "    # plt.fill_between(x, y2, ymin, facecolor='blue')\n",
    "    \n",
    "    ax.set_xlabel(\"x values\")\n",
    "    ax.set_ylabel(\"y values\")\n",
    "    ax.set_title(\"Some Graph\")\n",
    "    ticks = int(round((xmax-xmin)/20))\n",
    "    ax.set_xticks(np.arange(xmin, xmax, ticks))\n",
    "    ax.set_yticks(np.arange(ymin, ymax, ticks))\n",
    "    ax.grid(True)\n",
    "    plt.show()\n",
    "    \n",
    "    # Set up the slider to zoom\n",
    "    interactive_plot = interactive(f, zoom=(1,100))\n",
    "    interactive_plot"
   ]
  },
  {
   "cell_type": "markdown",
   "metadata": {},
   "source": [
    "# Solve and graph a system equations"
   ]
  },
  {
   "cell_type": "code",
   "execution_count": null,
   "metadata": {},
   "outputs": [],
   "source": [
    "from sympy import *\n",
    "from sympy.plotting import plot\n",
    "from sympy import sqrt\n",
    "\n",
    "var('x y')\n",
    "\n",
    "# First equation set equal to zero, ready to solve\n",
    "first = 3*y + x - 12\n",
    "\n",
    "\n",
    "# Second equation set equal to zero, ready to solve\n",
    "second = 8*x + 1 + y\n",
    "\n",
    "\n",
    "# Solve - can be linear or nonlinear equations\n",
    "solution = nonlinsolve([first, second], (x, y))\n",
    "for a in range(len(solution.args)):\n",
    "    x_solution = solution.args[a][0]\n",
    "    y_solution = solution.args[a][1]\n",
    "    print(\"Solution = (\", x_solution, \",\", y_solution, \")\")\n",
    "    \n",
    "# Sympy syntax for eqaution equal to zero, ready to factor\n",
    "y_first = Eq(first,0)\n",
    "\n",
    "# Sympy solve for y\n",
    "y1 = solve(y_first,y)\n",
    "\n",
    "# Same two steps for second equation\n",
    "y_second = Eq(second,0)\n",
    "y2 = solve(y_second,y)\n",
    "\n",
    "# Show factored results\n",
    "print(\"y = \", y1[0])\n",
    "print(\"y = \", y2[0])\n",
    "\n",
    "# Plot solution\n",
    "x = symbols('x')\n",
    "xmin = -10\n",
    "xmax = 10\n",
    "plot(y1[0], y2[0], (x,xmin,xmax))"
   ]
  },
  {
   "cell_type": "markdown",
   "metadata": {},
   "source": [
    "# Save graph and download image"
   ]
  },
  {
   "cell_type": "code",
   "execution_count": null,
   "metadata": {},
   "outputs": [],
   "source": [
    "# use this when graphing\n",
    "\n",
    "from google.colab import files\n",
    "\n",
    "# to dave and output graph\n",
    "plt.savefig(\"abc.png\")\n",
    "plt.show()\n",
    "files.download(\"abc.png\")"
   ]
  }
 ],
 "metadata": {
  "kernelspec": {
   "display_name": "base",
   "language": "python",
   "name": "python3"
  },
  "language_info": {
   "codemirror_mode": {
    "name": "ipython",
    "version": 3
   },
   "file_extension": ".py",
   "mimetype": "text/x-python",
   "name": "python",
   "nbconvert_exporter": "python",
   "pygments_lexer": "ipython3",
   "version": "3.12.4"
  }
 },
 "nbformat": 4,
 "nbformat_minor": 2
}
