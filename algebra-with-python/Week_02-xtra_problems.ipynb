{
 "cells": [
  {
   "cell_type": "markdown",
   "metadata": {},
   "source": [
    "Simplest solve-for-x code"
   ]
  },
  {
   "cell_type": "code",
   "execution_count": 3,
   "metadata": {},
   "outputs": [
    {
     "data": {
      "text/plain": [
       "[-sqrt(2), sqrt(2)]"
      ]
     },
     "execution_count": 3,
     "metadata": {},
     "output_type": "execute_result"
    }
   ],
   "source": [
    "import sympy\n",
    "from sympy import symbols\n",
    "from sympy.solvers import solve\n",
    "\n",
    "x = symbols('x')\n",
    "\n",
    "# Put the equation here\n",
    "eq = 2*x**2 - 4\n",
    "\n",
    "solve(eq,x)"
   ]
  },
  {
   "cell_type": "markdown",
   "metadata": {},
   "source": [
    "Prompt for someone to enter the equation,then solve"
   ]
  },
  {
   "cell_type": "code",
   "execution_count": 5,
   "metadata": {},
   "outputs": [
    {
     "name": "stdout",
     "output_type": "stream",
     "text": [
      "x =  [2]\n"
     ]
    }
   ],
   "source": [
    "import sympy\n",
    "from sympy import symbols\n",
    "from sympy.solvers import solve\n",
    "\n",
    "x = symbols('x')\n",
    "eq = input('Enter equation: 0 = ')\n",
    "\n",
    "print(\"x = \", solve(eq,x))"
   ]
  },
  {
   "cell_type": "markdown",
   "metadata": {},
   "source": [
    "Doing more with the solution"
   ]
  },
  {
   "cell_type": "code",
   "execution_count": 6,
   "metadata": {},
   "outputs": [
    {
     "name": "stdout",
     "output_type": "stream",
     "text": [
      "x =  2\n"
     ]
    }
   ],
   "source": [
    "import sympy\n",
    "from sympy import symbols\n",
    "from sympy.solvers import solve\n",
    "\n",
    "x = symbols('x')\n",
    "\n",
    "# Put the equation here\n",
    "eq = 2*x - 4\n",
    "\n",
    "solution = solve(eq,x)\n",
    "print(\"x = \", solution[0])"
   ]
  },
  {
   "cell_type": "markdown",
   "metadata": {},
   "source": [
    "Multiple answers"
   ]
  },
  {
   "cell_type": "code",
   "execution_count": 9,
   "metadata": {},
   "outputs": [
    {
     "name": "stdout",
     "output_type": "stream",
     "text": [
      "x =  -2\n",
      "x =  1\n",
      "x =  3\n"
     ]
    }
   ],
   "source": [
    "import sympy\n",
    "from sympy import symbols\n",
    "from sympy.solvers import solve\n",
    "\n",
    "x = symbols('x')\n",
    "\n",
    "# Two different ways to get the equation\n",
    "# eq = (x-1)*(x+2)*(x-3)\n",
    "eq = input('Enter equation: 0 = ')\n",
    "\n",
    "solution = solve(eq,x)\n",
    "for s in solution:\n",
    "    print(\"x = \", s)"
   ]
  },
  {
   "cell_type": "markdown",
   "metadata": {},
   "source": [
    "Solving in other ways"
   ]
  },
  {
   "cell_type": "code",
   "execution_count": 14,
   "metadata": {},
   "outputs": [
    {
     "name": "stdout",
     "output_type": "stream",
     "text": [
      "x =  y/2\n"
     ]
    }
   ],
   "source": [
    "from sympy import *\n",
    "\n",
    "\n",
    "var('x y')\n",
    "\n",
    "# First equation set equal to zero, ready to solve\n",
    "first = 2*x - y\n",
    "\n",
    "\n",
    "# Sympy syntax for equation equal to zero, ready to factor\n",
    "eq1 = Eq(first,0)\n",
    "\n",
    "# Sympy solve for x\n",
    "sol = solve(eq1,x)\n",
    "\n",
    "# Show factored results\n",
    "print(\"x = \", sol[0])"
   ]
  },
  {
   "cell_type": "markdown",
   "metadata": {},
   "source": [
    "Factoring"
   ]
  },
  {
   "cell_type": "code",
   "execution_count": 18,
   "metadata": {},
   "outputs": [
    {
     "data": {
      "text/latex": [
       "$\\displaystyle \\left(x - 3\\right) \\left(x - 1\\right) \\left(x + 2\\right)$"
      ],
      "text/plain": [
       "(x - 3)*(x - 1)*(x + 2)"
      ]
     },
     "execution_count": 18,
     "metadata": {},
     "output_type": "execute_result"
    }
   ],
   "source": [
    "import sympy\n",
    "from sympy import symbols\n",
    "\n",
    "var('x y')\n",
    "\n",
    "# Equation set equal to zero, ready to solve\n",
    "# eq = x**2-4\n",
    "eq = x**3 - 2*x**2 - 5*x + 6\n",
    "\n",
    "sympy.factor(eq)"
   ]
  },
  {
   "cell_type": "markdown",
   "metadata": {},
   "source": [
    "Explaining how each function works"
   ]
  },
  {
   "cell_type": "code",
   "execution_count": null,
   "metadata": {},
   "outputs": [],
   "source": [
    "# converts string input (including fractions) to float\n",
    "def string_frac(in_string):\n",
    "    if \"/\" in in_string:\n",
    "        nd = in_string.split(\"/\")\n",
    "        n = float(nd[0])\n",
    "        d = float(nd[1])\n",
    "        ans = n/d\n",
    "        return ans\n",
    "    else:\n",
    "        ans = float(in_string)\n",
    "        return ans\n",
    "    \n",
    "    \n",
    "# Simplest one-step addition\n",
    "def one_step_add():\n",
    "    import random\n",
    "    # Display problem\n",
    "    a = random.randint(-4,10)\n",
    "    b = random.randint(2,24)\n",
    "    print(\"x + \", a, \" = \", b)\n",
    "    ans = float(input(\"x = \"))\n",
    "    answer = b-a\n",
    "    # Test input\n",
    "    if ans==answer:\n",
    "        print(\"Correct! \\n\")\n",
    "    else:\n",
    "        print(\"Try again\")\n",
    "        print(\"The correct answer is \", answer, \"\\n\")\n",
    "        \n",
    "        \n",
    "# One-step addition with negative numbers\n",
    "def one_step_subtract():\n",
    "    import random\n",
    "    a = random.randint(-19,-1)\n",
    "    b = random.randint(2,24)\n",
    "    print(a, \" + x = \", b)\n",
    "    ans = float(input(\"x = \"))\n",
    "    # test\n",
    "    answer = b-a\n",
    "    if ans==answer:\n",
    "        print(\"Correct! \\n\")\n",
    "    else:\n",
    "        print(\"Try again\")\n",
    "        print(\"The correct answer is \", answer, \"\\n\")\n",
    "        \n",
    "        \n",
    "# One-step multiply\n",
    "def one_step_mult():\n",
    "    # Uses string_frac(<input string>)\n",
    "    import random\n",
    "    a = random.randint(1,11)\n",
    "    b = random.randint(2,24)\n",
    "    print(a, \"x = \", b)\n",
    "    ans_in = (input(\"x = \"))\n",
    "    answer = b/a\n",
    "    # test\n",
    "    if string_frac(ans_in)==answer:\n",
    "        print(\"Correct! \\n\")\n",
    "    else:\n",
    "        print(\"Try again\")\n",
    "        print(\"The correct answer is \", answer, \"\\n\")\n"
   ]
  }
 ],
 "metadata": {
  "kernelspec": {
   "display_name": "base",
   "language": "python",
   "name": "python3"
  },
  "language_info": {
   "codemirror_mode": {
    "name": "ipython",
    "version": 3
   },
   "file_extension": ".py",
   "mimetype": "text/x-python",
   "name": "python",
   "nbconvert_exporter": "python",
   "pygments_lexer": "ipython3",
   "version": "3.12.4"
  }
 },
 "nbformat": 4,
 "nbformat_minor": 2
}
